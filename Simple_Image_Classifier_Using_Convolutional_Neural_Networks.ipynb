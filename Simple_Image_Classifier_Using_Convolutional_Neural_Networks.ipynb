{
  "nbformat": 4,
  "nbformat_minor": 0,
  "metadata": {
    "colab": {
      "name": "Simple Image_Classifier_Using_Convolutional_Neural_Networks.ipynb",
      "provenance": [],
      "collapsed_sections": [],
      "include_colab_link": true
    },
    "kernelspec": {
      "name": "python3",
      "display_name": "Python 3"
    },
    "accelerator": "GPU"
  },
  "cells": [
    {
      "cell_type": "markdown",
      "metadata": {
        "id": "view-in-github",
        "colab_type": "text"
      },
      "source": [
        "<a href=\"https://colab.research.google.com/github/DennisNgugi/Simple_Image_Classifier_Using_Convolutional_Neural_Networks/blob/main/Simple_Image_Classifier_Using_Convolutional_Neural_Networks.ipynb\" target=\"_parent\"><img src=\"https://colab.research.google.com/assets/colab-badge.svg\" alt=\"Open In Colab\"/></a>"
      ]
    },
    {
      "cell_type": "markdown",
      "metadata": {
        "id": "56viYGG0E3Ue"
      },
      "source": [
        "**Name: NGUGI DENNIS MUTHOGA**\n",
        "\n",
        "**Reg Number: SCT211-0314/2016**\n",
        "\n",
        "\n",
        "**DIGITAL IMAGE PROCESSING**\n",
        "\n",
        "**CONVOLUTIONAL NEURAL NETWORK COURSEWORK**"
      ]
    },
    {
      "cell_type": "markdown",
      "metadata": {
        "id": "eSupTkbgNuhG"
      },
      "source": [
        "# Course: Create a CNN (Convolutional Neural Network) model."
      ]
    },
    {
      "cell_type": "markdown",
      "metadata": {
        "id": "fVvK1vsGP9gc"
      },
      "source": [
        "## **PART 1**"
      ]
    },
    {
      "cell_type": "markdown",
      "metadata": {
        "id": "vicPN_QaOK-C"
      },
      "source": [
        "# Workflow"
      ]
    },
    {
      "cell_type": "markdown",
      "metadata": {
        "id": "JMLd8sUXOTSF"
      },
      "source": [
        "1. Load in the MNIST dataset and examine the structure.\n",
        "\n",
        "\n",
        "*   Use any library to load the MNIST dataset (Include both Tensorflow and PyTorch modules) \n",
        "*   Take a closer look at the data inspecting it's size, shape and quantity.\n",
        "* View some random sample using either OpenCV or Matplotlib (or others) of the handwritten digits and observe the complexity of the images. (Do you have any issue identifying these written numbers?)\n",
        "2. Using Numpy or other libraries preparing the dataset for training \n",
        "* Ensure the format or shape of the data is appropriate for input into the model. (One -hot- encoding)-- apple 1   price 5 mango 2 10\n",
        "* Ensure the data types are correct and the data is normalized.\n",
        "3. Create a CNN with the following specifications\n",
        "*  input Dimensions 28 * 28 * 1\n",
        "*  Two Convolution Layers (kernel size 3* 3) first with 64 filters, the second 32. use ReLU  (Rectified Linear Unit - ReLU- the activation layer)\n",
        "* Max pooling size 2*2\n",
        "* Dropout rate 0.25\n",
        "* Add a Dense Layer comprising of 128 outputs\n",
        "* Add another dropout layer using rate setting of 0.5\n",
        "* Add the final dropout layer that indicated the class probabilities \n",
        "4. Train the CNN on the MNIST dataset that was prepared in step 2 \n",
        " * Train for atleast 10 Epochs using a batch size of 32\n",
        "5. Plot graphs showing how your training and validation loss and accuracy changed with respect to the Epochs completed.\n",
        "6. Save the model, will be used in the second PART \n",
        "7. Test the model on some random samples from the test dataset.\n"
      ]
    },
    {
      "cell_type": "markdown",
      "metadata": {
        "id": "54oylXCiUEU9"
      },
      "source": [
        "# Deliverable "
      ]
    },
    {
      "cell_type": "markdown",
      "metadata": {
        "id": "DdOy4xq1UVle"
      },
      "source": [
        "Jupyter Notebook documents the workflow as we take the MNIST dataset, view samples, convert it into the right shape/format as required for the deep learning library. The model built will be the one used for the next step."
      ]
    },
    {
      "cell_type": "markdown",
      "metadata": {
        "id": "cEO5nYJ1Up_l"
      },
      "source": [
        "# Load MNIST Dataset"
      ]
    },
    {
      "cell_type": "code",
      "metadata": {
        "id": "JqDGJF9kUu8j"
      },
      "source": [
        "from tensorflow.keras.datasets import mnist"
      ],
      "execution_count": null,
      "outputs": []
    },
    {
      "cell_type": "code",
      "metadata": {
        "id": "oSxvqeLRVbu-",
        "colab": {
          "base_uri": "https://localhost:8080/"
        },
        "outputId": "3ac66a4e-4b46-40af-815a-f9cd383f0403"
      },
      "source": [
        "#Loads the MNIST dataset\n",
        "(x_train, y_train),(x_test,y_test)=mnist.load_data()"
      ],
      "execution_count": null,
      "outputs": [
        {
          "output_type": "stream",
          "text": [
            "Downloading data from https://storage.googleapis.com/tensorflow/tf-keras-datasets/mnist.npz\n",
            "11493376/11490434 [==============================] - 0s 0us/step\n"
          ],
          "name": "stdout"
        }
      ]
    },
    {
      "cell_type": "code",
      "metadata": {
        "id": "xxIalxWmV2dO",
        "colab": {
          "base_uri": "https://localhost:8080/"
        },
        "outputId": "ed0293c2-5e05-4dd3-a65d-302af59913bf"
      },
      "source": [
        "#Display the number of samples in the x_train, x_test, y_train, y_test\n",
        "print(\"Initial shape or dimensions of the x_train\",str(x_train.shape)+ '\\n')\n",
        "print('Number of samples in our training data: '+ str(len(x_train)) )\n",
        "print('Number of labels in our training data: '+ str(len(y_train)))\n",
        "print('Number of samples in our test data: '+ str(len(x_test)))\n",
        "print('Number of labels in our test data: '+ str(len(y_test))+ '\\n')\n",
        "\n",
        "print('Dimensions of the x_train: '+str(x_train[0].shape))\n",
        "print('Labels in y_train: '+str(y_train.shape)+ '\\n')\n",
        "\n",
        "print('Dimensions of the x_test: '+ str(x_test[0].shape))\n",
        "print('Labels in y_test: '+ str(y_test.shape)) "
      ],
      "execution_count": null,
      "outputs": [
        {
          "output_type": "stream",
          "text": [
            "Initial shape or dimensions of the x_train (60000, 28, 28)\n",
            "\n",
            "Number of samples in our training data: 60000\n",
            "Number of labels in our training data: 60000\n",
            "Number of samples in our test data: 10000\n",
            "Number of labels in our test data: 10000\n",
            "\n",
            "Dimensions of the x_train: (28, 28)\n",
            "Labels in y_train: (60000,)\n",
            "\n",
            "Dimensions of the x_test: (28, 28)\n",
            "Labels in y_test: (10000,)\n"
          ],
          "name": "stdout"
        }
      ]
    },
    {
      "cell_type": "markdown",
      "metadata": {
        "id": "-jZTYfeTYZsB"
      },
      "source": [
        "# Let's take a look at the images in the Dataset"
      ]
    },
    {
      "cell_type": "code",
      "metadata": {
        "id": "79Ep1H4KV5CH"
      },
      "source": [
        "#importing matplotlib\n",
        "import matplotlib.pyplot as plt\n",
        "import numpy as np"
      ],
      "execution_count": null,
      "outputs": []
    },
    {
      "cell_type": "code",
      "metadata": {
        "id": "lJt_ZkxzWcfg"
      },
      "source": [
        "#plot 6 images, using subplot\n",
        "#set the colormap to grey since our image dataset is grayscale\n",
        "import matplotlib.pyplot as plt\n",
        "import numpy as np\n",
        "\n",
        "#plot 6 images using subplot\n",
        "\n",
        "def plot(data):\n",
        "    for i in range(1,7):\n",
        "        plt.subplot(3,3,i)\n",
        "        random_num = np.random.randint(0, len(data))\n",
        "        plt.imshow(data[random_num],cmap=plt.get_cmap('gray'))"
      ],
      "execution_count": null,
      "outputs": []
    },
    {
      "cell_type": "markdown",
      "metadata": {
        "id": "0Xa2kSsccQgn"
      },
      "source": [
        "#Prepare the Dataset for Keras\n"
      ]
    },
    {
      "cell_type": "markdown",
      "metadata": {
        "id": "7DfFP1rxcXAa"
      },
      "source": [
        "keras requires our input data as a 4D shape of (60000,28,28,1). when we initially loaded our data x_train was (60000,28,28). We need our labels to be one-hot-encoded("
      ]
    },
    {
      "cell_type": "code",
      "metadata": {
        "id": "313sa7chdaxI",
        "colab": {
          "base_uri": "https://localhost:8080/"
        },
        "outputId": "972ba310-380e-469f-ef7a-2fa6fbe40b44"
      },
      "source": [
        "#lets store the number of rows and columns\n",
        "img_rows = x_train[0].shape[0]\n",
        "img_cols = x_train[0].shape[1]\n",
        "\n",
        "#get the data in the right shape for keras.\n",
        "#add a 4th dimension to our data(60 000,28,28) to (60 000,28,28,1)\n",
        "x_train = x_train.reshape(x_train.shape[0],img_rows,img_cols,1)\n",
        "x_test = x_test.reshape(x_test.shape[0],img_rows,img_cols,1)\n",
        "\n",
        "#storing the shape of a single image for future use as a variable(storing our input shape)\n",
        "input_shape = (img_rows,img_cols,1)\n",
        "\n",
        "#change the image type to be a float\n",
        "x_train = x_train.astype('float32')\n",
        "x_test = x_test.astype('float32')\n",
        "\n",
        "#normalize the data by changing the range from being 0-255 to being 0-1\n",
        "x_train /= 255.0\n",
        "x_test /= 255.0\n",
        "\n",
        "print('x_train shape:',x_train.shape)\n",
        "print(x_train.shape[0],'train samples')\n",
        "print(x_test.shape[0],'test samples')\n"
      ],
      "execution_count": null,
      "outputs": [
        {
          "output_type": "stream",
          "text": [
            "x_train shape: (60000, 28, 28, 1)\n",
            "60000 train samples\n",
            "10000 test samples\n"
          ],
          "name": "stdout"
        }
      ]
    },
    {
      "cell_type": "code",
      "metadata": {
        "id": "yICaBPOBd6UC",
        "colab": {
          "base_uri": "https://localhost:8080/"
        },
        "outputId": "993199a7-be34-4141-fd20-e9e31d7e1b0b"
      },
      "source": [
        "img_rows\n",
        "img_cols\n"
      ],
      "execution_count": null,
      "outputs": [
        {
          "output_type": "execute_result",
          "data": {
            "text/plain": [
              "28"
            ]
          },
          "metadata": {
            "tags": []
          },
          "execution_count": 11
        }
      ]
    },
    {
      "cell_type": "markdown",
      "metadata": {
        "id": "WHmjxKcgjGWc"
      },
      "source": [
        "#Perform the one-hot-encoding of the data labels\n"
      ]
    },
    {
      "cell_type": "code",
      "metadata": {
        "id": "dA6ul0QhjN69",
        "colab": {
          "base_uri": "https://localhost:8080/"
        },
        "outputId": "36bd8e0e-6121-4ae6-9539-8dce16060a57"
      },
      "source": [
        "from tensorflow.keras.utils import to_categorical\n",
        "#one hot encode for outputs\n",
        "y_train = to_categorical(y_train)\n",
        "y_test = to_categorical(y_test)\n",
        "\n",
        "#count the number of columns in our hot encoded matrix\n",
        "print('Number of classes:'+str(y_test.shape[1]))\n",
        "num_classes = y_test.shape[1]"
      ],
      "execution_count": null,
      "outputs": [
        {
          "output_type": "stream",
          "text": [
            "Number of classes:10\n"
          ],
          "name": "stdout"
        }
      ]
    },
    {
      "cell_type": "markdown",
      "metadata": {
        "id": "V39Wi1OaktRK"
      },
      "source": [
        "#Creating the CNN Model"
      ]
    },
    {
      "cell_type": "code",
      "metadata": {
        "id": "NUlhTfp-k2ya",
        "colab": {
          "base_uri": "https://localhost:8080/",
          "height": 403
        },
        "outputId": "e12ed7e9-c34d-41e8-a232-27796fe2d6aa"
      },
      "source": [
        "from tensorflow.keras.models import Sequential\n",
        "from tensorflow.keras.layers import Dense, Dropout, Flatten\n",
        "from tensorflow.keras.layers import Conv2D, MaxPooling2D\n",
        "from tensorflow.keras import backend as K\n",
        "from tensorflow.keras.optimizers import SGD \n",
        "\n",
        "#create a model\n",
        "model = Sequential()\n",
        "\n",
        "#first conv layer, filter size 32 which reduces our layer size to 26*26*32\n",
        "# we use ReLU activation and specify our input shape which is 28*28*1\n",
        "model.add(Conv2D(32,kernel_size=(3,3),activation='relu',input_shape=input_shape))\n",
        "\n",
        "#second conv layer,filter size 64 which reduces our layer size to 24*24*64\n",
        "model.add(Conv2D(64,(3,3),activation='relu'))\n",
        "\n",
        "#we use max pooling with a kernel size of 2*2, this reduces our size to 12*12*64\n",
        "model.add(MaxPooling2D(pool_size=(2,2)))\n",
        "\n",
        "#Dropout P setting as 0.25 to reduce over fitting\n",
        "model.add(Dropout(0.25))\n",
        "\n",
        "#we then Flatten our tensor object before input into our Dense layer\n",
        "#A flatten operation on a tensor reshapes the tensor to have the shape that is \n",
        "#equal to the number of elements contained in tensor\n",
        "#in our CNN it goes from 12*12*64 to 9216*1\n",
        "model.add(Flatten())\n",
        "\n",
        "#we use another dropout layer\n",
        "model.add(Dropout(0.25))\n",
        "\n",
        "#we create a fully connected/Dense layer with an output of each class(10)\n",
        "model.add(Dense(num_classes,activation='softmax'))\n",
        "\n",
        "\n",
        "#we compile our model, this creates an object that stores the model. we set the \n",
        "#optimizer to use stochastic gradient descent(lr= 0.01)\n",
        "#we set the loss function to be categorical_crossentropy as it's suitable for\n",
        "#multiclass problems. and finally the metrics(to judge the performance of the model)\n",
        "#we use accuracy\n",
        "model.compile(loss='categorical_crossentropy',optimizer=SGD(0.01),metrics=['accuracy'])\n",
        "\n",
        "#the summary function can be used to display the model layers and parameters\n",
        "print(model.summary())"
      ],
      "execution_count": null,
      "outputs": [
        {
          "output_type": "stream",
          "text": [
            "Model: \"sequential\"\n",
            "_________________________________________________________________\n",
            "Layer (type)                 Output Shape              Param #   \n",
            "=================================================================\n",
            "conv2d (Conv2D)              (None, 26, 26, 32)        320       \n",
            "_________________________________________________________________\n",
            "conv2d_1 (Conv2D)            (None, 24, 24, 64)        18496     \n",
            "_________________________________________________________________\n",
            "max_pooling2d (MaxPooling2D) (None, 12, 12, 64)        0         \n",
            "_________________________________________________________________\n",
            "dropout (Dropout)            (None, 12, 12, 64)        0         \n",
            "_________________________________________________________________\n",
            "flatten (Flatten)            (None, 9216)              0         \n",
            "_________________________________________________________________\n",
            "dropout_1 (Dropout)          (None, 9216)              0         \n",
            "_________________________________________________________________\n",
            "dense (Dense)                (None, 10)                92170     \n",
            "=================================================================\n",
            "Total params: 110,986\n",
            "Trainable params: 110,986\n",
            "Non-trainable params: 0\n",
            "_________________________________________________________________\n",
            "None\n"
          ],
          "name": "stdout"
        }
      ]
    },
    {
      "cell_type": "markdown",
      "metadata": {
        "id": "0sb6xJFKFVjH"
      },
      "source": [
        "Train the CNN\n"
      ]
    },
    {
      "cell_type": "code",
      "metadata": {
        "id": "l5sIoyPdFYp0",
        "colab": {
          "base_uri": "https://localhost:8080/",
          "height": 406
        },
        "outputId": "8c40f546-be50-4de3-c438-0d3b9a50a63a"
      },
      "source": [
        "batch_size = 32\n",
        "epochs = 10\n",
        "\n",
        "#store the results for plotting later\n",
        "#in our fit function we specify our dataset(x_train,y_train)\n",
        "#batch size (typically 16 to 128 --RAM) the number of epochs (10 - 100)\n",
        "#validation dataset - (x_test, y_test)\n",
        "#verbose = 1, setting the training to output performance metrics every epoch\n",
        "\n",
        "history = model.fit(x_train,y_train,batch_size=batch_size,epochs=epochs, verbose=1, validation_data=(x_test,y_test))\n",
        "\n",
        "#we obtain the accuracy score using the evaluate function\n",
        "score=model.evaluate(x_test,y_test,verbose=0)\n",
        "print('Test loss:',score[0])\n",
        "print('Test Accuracy:',score[1])"
      ],
      "execution_count": null,
      "outputs": [
        {
          "output_type": "stream",
          "text": [
            "Epoch 1/10\n",
            "1875/1875 [==============================] - 13s 7ms/step - loss: 0.5146 - accuracy: 0.8442 - val_loss: 0.2642 - val_accuracy: 0.9260\n",
            "Epoch 2/10\n",
            "1875/1875 [==============================] - 12s 6ms/step - loss: 0.2498 - accuracy: 0.9271 - val_loss: 0.1481 - val_accuracy: 0.9584\n",
            "Epoch 3/10\n",
            "1875/1875 [==============================] - 12s 6ms/step - loss: 0.1535 - accuracy: 0.9550 - val_loss: 0.0987 - val_accuracy: 0.9710\n",
            "Epoch 4/10\n",
            "1875/1875 [==============================] - 12s 6ms/step - loss: 0.1149 - accuracy: 0.9659 - val_loss: 0.0729 - val_accuracy: 0.9786\n",
            "Epoch 5/10\n",
            "1875/1875 [==============================] - 12s 6ms/step - loss: 0.0998 - accuracy: 0.9703 - val_loss: 0.0664 - val_accuracy: 0.9806\n",
            "Epoch 6/10\n",
            "1875/1875 [==============================] - 12s 6ms/step - loss: 0.0863 - accuracy: 0.9739 - val_loss: 0.0619 - val_accuracy: 0.9811\n",
            "Epoch 7/10\n",
            "1875/1875 [==============================] - 12s 6ms/step - loss: 0.0806 - accuracy: 0.9756 - val_loss: 0.0554 - val_accuracy: 0.9838\n",
            "Epoch 8/10\n",
            "1875/1875 [==============================] - 12s 6ms/step - loss: 0.0748 - accuracy: 0.9774 - val_loss: 0.0525 - val_accuracy: 0.9838\n",
            "Epoch 9/10\n",
            "1875/1875 [==============================] - 12s 6ms/step - loss: 0.0693 - accuracy: 0.9793 - val_loss: 0.0493 - val_accuracy: 0.9852\n",
            "Epoch 10/10\n",
            "1875/1875 [==============================] - 12s 6ms/step - loss: 0.0644 - accuracy: 0.9807 - val_loss: 0.0486 - val_accuracy: 0.9858\n",
            "Test loss: 0.04856826737523079\n",
            "Test Accuracy: 0.98580002784729\n"
          ],
          "name": "stdout"
        }
      ]
    },
    {
      "cell_type": "markdown",
      "metadata": {
        "id": "MeMz3MNIXUE6"
      },
      "source": [
        "#Plotting our Training progress\n"
      ]
    },
    {
      "cell_type": "code",
      "metadata": {
        "id": "RjjaTLm7XixA",
        "colab": {
          "base_uri": "https://localhost:8080/",
          "height": 279
        },
        "outputId": "8255545e-6ab3-4abf-e428-50697ebac9c5"
      },
      "source": [
        "#plot the loss charts\n",
        "import matplotlib.pyplot as plt\n",
        "#use history object to get our saved performance\n",
        "history_dict = history.history\n",
        "\n",
        "#extract the loss and the validation losses\n",
        "loss_values = history_dict['loss']\n",
        "val_loss_values = history_dict['val_loss']\n",
        "\n",
        "#get the number of epochs and create an array up to that number\n",
        "#using range()\n",
        "epochs = range(1,len(loss_values)+1)\n",
        "\n",
        "#plot line charts for both validation and training loss\n",
        "line1 = plt.plot(epochs,val_loss_values,label='Validation/Test Loss')\n",
        "line2 = plt.plot(epochs,loss_values,label='Training Loss')\n",
        "plt.setp(line1,linewidth=2.0,marker='+',markersize=10.0)\n",
        "plt.setp(line2,linewidth=2.0,marker='4',markersize=10.0)\n",
        "plt.xlabel('Epochs')\n",
        "plt.ylabel('Loss')\n",
        "plt.grid(True)\n",
        "plt.legend()\n",
        "plt.show()"
      ],
      "execution_count": null,
      "outputs": [
        {
          "output_type": "display_data",
          "data": {
            "image/png": "[encoded data removed]",
            "text/plain": [
              "<Figure size 432x288 with 1 Axes>"
            ]
          },
          "metadata": {
            "tags": [],
            "needs_background": "light"
          }
        }
      ]
    },
    {
      "cell_type": "markdown",
      "metadata": {
        "id": "mym-LolzfIzO"
      },
      "source": [
        "# Plot our accuracy\n"
      ]
    },
    {
      "cell_type": "code",
      "metadata": {
        "id": "e3eAh6EVfRVa",
        "colab": {
          "base_uri": "https://localhost:8080/"
        },
        "outputId": "86aefcf8-9466-4253-d9d0-d2a00a126c3a"
      },
      "source": [
        "#plot the accuracy charts\n",
        "import matplotlib.pyplot as plt\n",
        "\n",
        "#use history object to get our saved performance\n",
        "history_dict = history.history\n",
        "\n",
        "#extract the accuracy of the model \n",
        "acc_values = history_dict['accuracy']\n",
        "val_acc_values = history_dict['val_accuracy']\n",
        "\n",
        "#get the number of epochs and create an array up to that number\n",
        "#using range()\n",
        "epochs = range(1,len(loss_values)+1)\n",
        "\n",
        "#plot line charts for both validation and training loss\n",
        "line1 = plt.plot(epochs,val_acc_values,label='Validation/Test Accuracy')\n",
        "line2 = plt.plot(epochs,acc_values,label='Training Accuracy')\n",
        "plt.setp(line1,linewidth=2.0,marker='+',markersize=10.0)\n",
        "plt.setp(line2,linewidth=2.0,marker='4',markersize=10.0)\n",
        "plt.xlabel('Epochs')\n",
        "plt.ylabel('Accuracy')\n",
        "plt.grid(True)\n",
        "plt.legend()\n",
        "plt.show()"
      ],
      "execution_count": null,
      "outputs": [
        {
          "output_type": "display_data",
          "data": {
            "image/png": "[encoded data removed]",
            "text/plain": [
              "<Figure size 432x288 with 1 Axes>"
            ]
          },
          "metadata": {
            "tags": [],
            "needs_background": "light"
          }
        }
      ]
    },
    {
      "cell_type": "code",
      "metadata": {
        "id": "5H3GJbmbl4p0",
        "colab": {
          "base_uri": "https://localhost:8080/"
        },
        "outputId": "9fe594b6-8269-4ef7-a17f-0b6ab5bbb9d0"
      },
      "source": [
        "#saving the model\n",
        "model.save('mnist_simple_cnn_10_Epochs.h5')\n",
        "print('model is saved')"
      ],
      "execution_count": null,
      "outputs": [
        {
          "output_type": "stream",
          "text": [
            "model is saved\n"
          ],
          "name": "stdout"
        }
      ]
    },
    {
      "cell_type": "code",
      "metadata": {
        "id": "zmJ7M4aZmFE2"
      },
      "source": [
        "from tensorflow.keras.models import load_model\n",
        "classifier = load_model('mnist_simple_cnn_10_Epochs.h5')"
      ],
      "execution_count": null,
      "outputs": []
    },
    {
      "cell_type": "markdown",
      "metadata": {
        "id": "QMR5y6wWnJq6"
      },
      "source": [
        "# Testing the model on some random  Test data"
      ]
    },
    {
      "cell_type": "code",
      "metadata": {
        "id": "XJn5Sga5nS77",
        "colab": {
          "base_uri": "https://localhost:8080/",
          "height": 156
        },
        "outputId": "79177c1c-b516-48a3-eba0-9a82b487b79a"
      },
      "source": [
        "import numpy as np\n",
        "figure=plt.figure(figsize=(20,20))\n",
        "for i in range(5):\n",
        "  figure.add_subplot(1,5,i+1)\n",
        "  random_idx=np.random.randint(0,len(x_test))\n",
        "  plt.imshow(x_test[random_idx,:,:,0],cmap='gray')\n",
        "  plt.axis='off'\n",
        "  print(np.squeeze(np.argmax(model.predict(x_test[random_idx].reshape(1,28,28,1)), axis=1),axis=0),end='\\t')"
      ],
      "execution_count": null,
      "outputs": [
        {
          "output_type": "stream",
          "text": [
            "3\t3\t9\t7\t1\t"
          ],
          "name": "stdout"
        },
        {
          "output_type": "display_data",
          "data": {
            "image/png": "[encoded data removed]",
            "text/plain": [
              "<Figure size 1440x1440 with 5 Axes>"
            ]
          },
          "metadata": {
            "tags": [],
            "needs_background": "light"
          }
        }
      ]
    },
    {
      "cell_type": "markdown",
      "metadata": {
        "id": "MYrT43dkPtAx"
      },
      "source": [
        "## Part 2\n"
      ]
    },
    {
      "cell_type": "markdown",
      "metadata": {
        "id": "TX446oT0o51W"
      },
      "source": [
        "# Visualization of the CNN"
      ]
    },
    {
      "cell_type": "markdown",
      "metadata": {
        "id": "Xs3OSKHPgJp9"
      },
      "source": [
        "Load trained CNN and understand what they 'see' or learn, this will help in better understanding how they work. Workflow:\n",
        "\n",
        "1.Load dataset from milestone 1\n",
        "\n",
        "2.Analyze the model's performance by viewing Confusion matrix and Classification Report. aim at identifying weaknesses of the model.Look at individual performance of each class of the CNN and see cases where it has trouble classfying the data correctly.\n",
        "\n",
        "3.Identify all samples wrongly classified by the CNN and display the results. Think why the model got it wrong.\n",
        "\n",
        "4.Extract our layer outputs and create our activation model. So that we can visualize the activation of each layer. Give the model some input and see how it deals with it.\n",
        "\n",
        "5.Display output shape of the first activation layer and compare it with the output layer shape that can be seen from the model summary.\n",
        "\n",
        "6.Show the output of the activation map of 4th convolution filter or feature map of the first convolution layer.\n",
        "\n",
        "7.Display all the activations for the first 3 layers of the model.\n",
        "\n",
        "Output: Display of the classification report and confusion matrix. A display of the sample data that is wrongly classified.We then display the activation layer for various CNN layers."
      ]
    },
    {
      "cell_type": "code",
      "metadata": {
        "id": "4x6KGkxC0eFI"
      },
      "source": [
        "#Reload the data\n",
        "from tensorflow.keras.models import load_model\n",
        "from tensorflow.keras.utils import to_categorical\n",
        "from tensorflow.keras.datasets import mnist"
      ],
      "execution_count": null,
      "outputs": []
    },
    {
      "cell_type": "code",
      "metadata": {
        "id": "VCOoLZ2M1Fb0"
      },
      "source": [
        "#Load datasets\n",
        "(x_train,y_train),(x_test,y_test) = mnist.load_data()\n",
        "model = load_model('mnist_simple_cnn_10_Epochs.h5')\n"
      ],
      "execution_count": null,
      "outputs": []
    },
    {
      "cell_type": "code",
      "metadata": {
        "id": "qS41En091ZKy"
      },
      "source": [
        "#Number of rows and cols\n",
        "img_rows = x_train[0].shape[0]\n",
        "img_cols = x_train[0].shape[1]"
      ],
      "execution_count": null,
      "outputs": []
    },
    {
      "cell_type": "code",
      "metadata": {
        "id": "jeoHaGWR1lbT",
        "colab": {
          "base_uri": "https://localhost:8080/",
          "height": 34
        },
        "outputId": "bf174c20-5095-4a93-a911-f28d2aa6476c"
      },
      "source": [
        "#Get data in the right shape for keras 4dimensions\n",
        "x_test = x_test.reshape(x_test.shape[0],img_rows,img_cols,1)\n",
        "\n",
        "#Store the shape of a single image\n",
        "input_shape= (img_rows,img_cols,1)\n",
        "\n",
        "#Change the image type to float32 data type\n",
        "x_test = x_test.astype('float32')\n",
        "\n",
        "#Normalize the data by changing the ranges from 0-255\n",
        "x_test/=255.0\n",
        "y_test =to_categorical(y_test)\n",
        "print(x_test.shape[0],'test samples.')"
      ],
      "execution_count": null,
      "outputs": [
        {
          "output_type": "stream",
          "text": [
            "10000 test samples.\n"
          ],
          "name": "stdout"
        }
      ]
    },
    {
      "cell_type": "markdown",
      "metadata": {
        "id": "dKg-CkSNSgU0"
      },
      "source": [
        "#Display the Classification report"
      ]
    },
    {
      "cell_type": "code",
      "metadata": {
        "id": "HIzHUxoU-zal"
      },
      "source": [
        "from sklearn.metrics import classification_report, confusion_matrix\n",
        "import numpy as np\n",
        "\n",
        "y_pred = model.predict_classes(x_test)\n",
        "\n",
        "print('\\nclassification report:\\n',classification_report(np.argmax(y_test,axis=1),y_pred))\n",
        "print('\\nconfusion matrix:\\n',confusion_matrix(np.argmax(y_test,axis=1),y_pred))"
      ],
      "execution_count": null,
      "outputs": []
    },
    {
      "cell_type": "markdown",
      "metadata": {
        "id": "AiugzH-ig2OR"
      },
      "source": [
        "#Getting the Misclassified Data"
      ]
    },
    {
      "cell_type": "code",
      "metadata": {
        "id": "-4EurL2sIPEd"
      },
      "source": [
        "#Getting the misclassified data\n",
        "\n",
        "import cv2\n",
        "import numpy as np\n",
        "from tensorflow.keras.datasets import mnist\n",
        "\n",
        "#Load the data\n",
        "(x_train,y_train),(x_test,y_test) = mnist.load_data()"
      ],
      "execution_count": null,
      "outputs": []
    },
    {
      "cell_type": "code",
      "metadata": {
        "id": "EHd76GcmUQY6",
        "colab": {
          "base_uri": "https://localhost:8080/"
        },
        "outputId": "418c5872-5edf-4570-dcd9-8fd0ac1d20d5"
      },
      "source": [
        "#Use numpy to create an array to store a value of 1 when a misclassification occurs\n",
        "\n",
        "result = np.absolute(y_test - y_pred)\n",
        "result_indices = np.nonzero(result > 0)\n",
        "\n",
        "#display the indices of the misclassification\n",
        "print('\\n Indices of misclassified data are:\\n'+str(result_indices))"
      ],
      "execution_count": null,
      "outputs": [
        {
          "output_type": "stream",
          "text": [
            "\n",
            " Indices of misclassified data are:\n",
            "(array([  18,  259,  320,  321,  340,  445,  449,  479,  582,  659,  684,\n",
            "        717,  720,  740,  844,  882,  947,  965, 1014, 1039, 1112, 1182,\n",
            "       1226, 1232, 1247, 1260, 1299, 1319, 1326, 1393, 1414, 1500, 1530,\n",
            "       1553, 1554, 1621, 1681, 1686, 1709, 1717, 1754, 1790, 1878, 1901,\n",
            "       2035, 2043, 2098, 2109, 2118, 2129, 2130, 2135, 2189, 2272, 2280,\n",
            "       2293, 2387, 2406, 2414, 2425, 2454, 2488, 2607, 2654, 2720, 2760,\n",
            "       2896, 2921, 2939, 2953, 2979, 2995, 3005, 3030, 3060, 3073, 3384,\n",
            "       3422, 3503, 3520, 3558, 3559, 3597, 3726, 3749, 3751, 3767, 3808,\n",
            "       3811, 3838, 3853, 3906, 4065, 4075, 4078, 4163, 4176, 4224, 4238,\n",
            "       4248, 4256, 4500, 4571, 4575, 4731, 4761, 4807, 4874, 4956, 5331,\n",
            "       5642, 5888, 5937, 5955, 5973, 6091, 6166, 6173, 6505, 6571, 6576,\n",
            "       6597, 6625, 6651, 7432, 7434, 8059, 8094, 8332, 8408, 9009, 9015,\n",
            "       9019, 9024, 9638, 9642, 9664, 9692, 9729, 9770, 9905, 9982]),)\n"
          ],
          "name": "stdout"
        }
      ]
    },
    {
      "cell_type": "markdown",
      "metadata": {
        "id": "fULQP__-j-WJ"
      },
      "source": [
        "#Reload the dataset\n"
      ]
    },
    {
      "cell_type": "code",
      "metadata": {
        "id": "XCNd-3FRVBcd",
        "colab": {
          "base_uri": "https://localhost:8080/",
          "height": 50
        },
        "outputId": "f15a5870-a337-4bd4-83e0-73a69652cd53"
      },
      "source": [
        "\n",
        "#Number of rows and cols\n",
        "img_rows=x_train[0].shape[0]\n",
        "img_cols=x_train[0].shape[1]\n",
        "\n",
        "#Reshaping the data\n",
        "x_test = x_test.reshape(x_test.shape[0], img_rows, img_cols, 1)\n",
        "x_train = x_train.reshape(x_train.shape[0],img_rows,img_cols,1)\n",
        "\n",
        "#Store the shape of a single image\n",
        "input_shape = (img_rows,img_cols,1)\n",
        "\n",
        "#Change image type to float32\n",
        "x_train = x_train.astype('float32')\n",
        "x_test = x_test.astype('float32')\n",
        "\n",
        "#Normalize the data by changing the range\n",
        "x_test /= 255.0\n",
        "y_test = to_categorical(y_test)\n",
        "print(x_train.shape[0],'train samples')\n",
        "print(x_test.shape[0], 'test samples')"
      ],
      "execution_count": null,
      "outputs": [
        {
          "output_type": "stream",
          "text": [
            "60000 train samples\n",
            "10000 test samples\n"
          ],
          "name": "stdout"
        }
      ]
    },
    {
      "cell_type": "markdown",
      "metadata": {
        "id": "ebl6hx8SVcsL"
      },
      "source": [
        "#Display misclassified item"
      ]
    },
    {
      "cell_type": "code",
      "metadata": {
        "id": "x4GEmYXaVgd4",
        "colab": {
          "base_uri": "https://localhost:8080/",
          "height": 156
        },
        "outputId": "bcfba12d-4b0b-46e4-e0f6-636d8e05c87e"
      },
      "source": [
        "import matplotlib.pyplot as plt\n",
        "\n",
        "figure= plt.figure(figsize =(20,20))\n",
        "for i in range(5):\n",
        "  figure.add_subplot(1,5,i+1)\n",
        "  index = result_indices[0][i]\n",
        "  plt.imshow(x_test[index,:,:,0],cmap='gray')\n",
        "  plt.axis='off'\n",
        "  prediction = np.squeeze(np.argmax(model.predict(x_test[index].reshape(1,28,28,1)),axis=1),axis=0)\n",
        "  print(prediction,end='\\t')"
      ],
      "execution_count": null,
      "outputs": [
        {
          "output_type": "stream",
          "text": [
            "8\t0\t7\t7\t3\t"
          ],
          "name": "stdout"
        },
        {
          "output_type": "display_data",
          "data": {
            "image/png": "[encoded data removed]",
            "text/plain": [
              "<Figure size 1440x1440 with 5 Axes>"
            ]
          },
          "metadata": {
            "tags": [],
            "needs_background": "light"
          }
        }
      ]
    },
    {
      "cell_type": "markdown",
      "metadata": {
        "id": "-D9ror6mWubT"
      },
      "source": [
        "#Viewing the activation maps of the CNN"
      ]
    },
    {
      "cell_type": "code",
      "metadata": {
        "id": "5hdOgNVXWzNu",
        "colab": {
          "base_uri": "https://localhost:8080/",
          "height": 320
        },
        "outputId": "19fe9475-1459-46aa-9e4e-01152f37e8ec"
      },
      "source": [
        "from tensorflow.keras.models import Model\n",
        "\n",
        "#Extract the outputs of the top 7 layers\n",
        "layer_outputs= [layer.output for layer in model.layers[:7]]\n",
        "\n",
        "#Create a model to return those outputs given the model's input\n",
        "activation_model = Model(inputs=model.input, outputs=layer_outputs)\n",
        "\n",
        "#display the test image of the activation model\n",
        "img_tensor = x_test[151].reshape(1,28,28,1)\n",
        "figure1 = plt.figure(figsize=(5,5))\n",
        "plt.imshow(img_tensor[0,:,:,0],cmap='inferno')\n",
        "plt.axis='off'"
      ],
      "execution_count": null,
      "outputs": [
        {
          "output_type": "display_data",
          "data": {
            "image/png": "[encoded data removed]",
            "text/plain": [
              "<Figure size 360x360 with 1 Axes>"
            ]
          },
          "metadata": {
            "tags": [],
            "needs_background": "light"
          }
        }
      ]
    },
    {
      "cell_type": "markdown",
      "metadata": {
        "id": "fuu8nnwRYwb0"
      },
      "source": [
        "#Running the model in predict mode to get the activation layer"
      ]
    },
    {
      "cell_type": "markdown",
      "metadata": {
        "id": "VRP1J659Y3Il"
      },
      "source": [
        "When an image is fed to the model it returns the values of the layer activations in the original model"
      ]
    },
    {
      "cell_type": "code",
      "metadata": {
        "id": "wa57z94cZBEv",
        "colab": {
          "base_uri": "https://localhost:8080/"
        },
        "outputId": "b442a401-7f00-4110-ca58-2ab2ae522b44"
      },
      "source": [
        "activations=activation_model.predict(img_tensor)\n",
        "print('Number of layer activation:'+ str(len(activations)) )"
      ],
      "execution_count": null,
      "outputs": [
        {
          "output_type": "stream",
          "text": [
            "Number of layer activation:7\n"
          ],
          "name": "stdout"
        }
      ]
    },
    {
      "cell_type": "code",
      "metadata": {
        "id": "G_dQ3ER9ZJB0",
        "colab": {
          "base_uri": "https://localhost:8080/"
        },
        "outputId": "0071f488-d0d4-4ead-9552-cc6320f8adcc"
      },
      "source": [
        "#activation of the first convolution layer for the input\n",
        "first_layer_activation=activations[0]\n",
        "print(first_layer_activation.shape)"
      ],
      "execution_count": null,
      "outputs": [
        {
          "output_type": "stream",
          "text": [
            "(1, 26, 26, 32)\n"
          ],
          "name": "stdout"
        }
      ]
    },
    {
      "cell_type": "code",
      "metadata": {
        "id": "5qtN49jxZPFU",
        "colab": {
          "base_uri": "https://localhost:8080/"
        },
        "outputId": "1b3998a4-2c10-4ab9-c004-d97ad97e72ba"
      },
      "source": [
        "print(model.summary())"
      ],
      "execution_count": null,
      "outputs": [
        {
          "output_type": "stream",
          "text": [
            "Model: \"sequential\"\n",
            "_________________________________________________________________\n",
            "Layer (type)                 Output Shape              Param #   \n",
            "=================================================================\n",
            "conv2d (Conv2D)              (None, 26, 26, 32)        320       \n",
            "_________________________________________________________________\n",
            "conv2d_1 (Conv2D)            (None, 24, 24, 64)        18496     \n",
            "_________________________________________________________________\n",
            "max_pooling2d (MaxPooling2D) (None, 12, 12, 64)        0         \n",
            "_________________________________________________________________\n",
            "dropout (Dropout)            (None, 12, 12, 64)        0         \n",
            "_________________________________________________________________\n",
            "flatten (Flatten)            (None, 9216)              0         \n",
            "_________________________________________________________________\n",
            "dropout_1 (Dropout)          (None, 9216)              0         \n",
            "_________________________________________________________________\n",
            "dense (Dense)                (None, 10)                92170     \n",
            "=================================================================\n",
            "Total params: 110,986\n",
            "Trainable params: 110,986\n",
            "Non-trainable params: 0\n",
            "_________________________________________________________________\n",
            "None\n"
          ],
          "name": "stdout"
        }
      ]
    },
    {
      "cell_type": "markdown",
      "metadata": {
        "id": "qBwe_QcVz4SJ"
      },
      "source": [
        "the output of the first activation layer can be seen to be of the same shape as the output of the 1st conv layer."
      ]
    },
    {
      "cell_type": "markdown",
      "metadata": {
        "id": "xqhcvdTWZZ9I"
      },
      "source": [
        "#The output of the 4th conv filter in the first conv layer"
      ]
    },
    {
      "cell_type": "code",
      "metadata": {
        "id": "GFIg5Gyne78C",
        "colab": {
          "base_uri": "https://localhost:8080/"
        },
        "outputId": "2e5c777c-36a1-4b63-e5c1-a35c9ec9d7ac"
      },
      "source": [
        "plt.matshow(first_layer_activation[0,:,:,3],cmap='viridis')"
      ],
      "execution_count": null,
      "outputs": [
        {
          "output_type": "execute_result",
          "data": {
            "text/plain": [
              "<matplotlib.image.AxesImage at 0x7fe844f76e10>"
            ]
          },
          "metadata": {
            "tags": []
          },
          "execution_count": 33
        },
        {
          "output_type": "display_data",
          "data": {
            "image/png": "[encoded data removed]",
            "text/plain": [
              "<Figure size 288x288 with 1 Axes>"
            ]
          },
          "metadata": {
            "tags": [],
            "needs_background": "light"
          }
        }
      ]
    },
    {
      "cell_type": "markdown",
      "metadata": {
        "id": "fwMTTkSffEbJ"
      },
      "source": [
        "# A function that displays the activations of specific layers\n"
      ]
    },
    {
      "cell_type": "code",
      "metadata": {
        "id": "hv62CrbTfLy_",
        "colab": {
          "base_uri": "https://localhost:8080/",
          "height": 621
        },
        "outputId": "b9ec301d-b130-4ed2-d769-23276d6879e1"
      },
      "source": [
        "def display_activations(activations,col_size,row_size,act_index):\n",
        "  activation = activations[act_index]\n",
        "  activation_index = 0\n",
        "  fig,ax = plt.subplots(row_size,col_size, figsize=(row_size*2.5,col_size*1.5))\n",
        "  for row in range(0,row_size):\n",
        "    for col in range(0,col_size):\n",
        "      ax[row][col].imshow(activation[0,:,:,activation_index],cmap = 'viridis')\n",
        "      activation_index += 1\n",
        "\n",
        "display_activations(activations,8,4,0)"
      ],
      "execution_count": null,
      "outputs": [
        {
          "output_type": "display_data",
          "data": {
            "image/png": "[encoded data removed]",
            "text/plain": [
              "<Figure size 720x864 with 32 Axes>"
            ]
          },
          "metadata": {
            "tags": [],
            "needs_background": "light"
          }
        }
      ]
    },
    {
      "cell_type": "markdown",
      "metadata": {
        "id": "wQxaUPBLfTo1"
      },
      "source": [
        "#PART 3"
      ]
    },
    {
      "cell_type": "markdown",
      "metadata": {
        "id": "Kv_Zrt9s3Y6b"
      },
      "source": [
        "#Transfer Learning :\n",
        "\n",
        " Understanding  Transfer of Learning"
      ]
    },
    {
      "cell_type": "markdown",
      "metadata": {
        "id": "ZSdF0HWb73jQ"
      },
      "source": [
        "objective: Use Transfer Learning to improve accuracy on the CIFAR10 dataset. Purpose is to help experience using pre-traied models."
      ]
    },
    {
      "cell_type": "markdown",
      "metadata": {
        "id": "-uI8IFtI8Kt5"
      },
      "source": [
        "Workflow:\n",
        "\n",
        "1.Load the CIFAR10 dataset (keras dataset) and train a Deeper CNN with various configurations.\n",
        "\n",
        "2.Train this CNN for 10 Epochs or more using a Batch Size/ of 32 (batch size does not matter significantly as this depends on RAM size)\n",
        "-Examine the perfomance metrics of trained CNN. The accuracy after 10 Epochs should be between 60 and 65% on the test data. How we can perfom better on this.\n",
        "\n",
        "3.See what our CNN is capable of by testing the model on some of the Test images used in part 1. How would you compare this classification perfomance to a human.\n",
        "\n",
        "4.The model created could be dissapointing, we then use the Transfer learning to significantly improve it. (Load the weight of a pre-trained CNN such as VGG16)- to import that model: from tensorflow.keras.applications import vgg16 as vgg.\n",
        "\n",
        "5.Do not include top layer when loading, we are using this model to apply the concept of Transfer Learning- the function vgg.VGG16(weights='imagenet', include_top=False,input_shape=(48,48,3))\n",
        "\n",
        "6.Extract the last layer from the 3rd block of the VGG16 model. We will be using the VGG model upto block3_pool\n",
        "\n",
        "7.Add the classification layers for the CIFAR10 classed on top of it.\n",
        "\n",
        "8.Freeze all layers in the pretrained VGG16 model since we will be reusing them and compile the merged model. Iterare through out base_model.layers and set the trainable parameter to be false by using layer.trainable=false\n",
        "\n",
        "9.Keras data generator loading the image data.\n",
        "\n",
        "10.Train the model and atleast 5 (10 is best) epochs and note the improvement.\n",
        "\n",
        "11.Visualize the filters of the pre-trained VGG16 model- Reload the VGG16 model, extract the convolution layers since we want the filters and biased values of these. We will inspect the bias and weights usinbg 3rd convlayer using get_wights(). ==a good idea of what filters and biases are.\n",
        "\n",
        "12.Plot the first 6 conv filters- First normalixe the filter values (0-1) --get filters using f=filters[:,:,:,i]. Plot and visualixe it using plt.imshow(f[f:,:,:,j], cmap='gray')\n",
        "13.Visulaize the features map of the VGG16 by running an input image (Create your own image) through the model. --redefine the model to output right after the 1st hidden layer using model=Model(input=model.inout,outputs=model.layers[1].output. Using the inbuilt keras preprocessing functions load_img and img_to_img along the numpy's expand_dims and keras VGG16 funtion from tensorflow.keras.applictions.vgg16 import preprocess_input\n",
        "\n",
        "14.plot these features maps for the output of the 5 convolution blocks indexed as [2,5,9,13,17]"
      ]
    },
    {
      "cell_type": "markdown",
      "metadata": {
        "id": "QFn4x2Vu8vmE"
      },
      "source": [
        "#Training model for CIFAR10 using Deeper CNN"
      ]
    },
    {
      "cell_type": "code",
      "metadata": {
        "id": "NP1BnB3x87Jw"
      },
      "source": [
        "from __future__ import print_function\n",
        "from tensorflow.keras.datasets import cifar10\n",
        "from tensorflow.keras.preprocessing.image import ImageDataGenerator\n",
        "from tensorflow.keras.models import Sequential\n",
        "from tensorflow.keras.layers import Dense,Dropout,Activation,Flatten\n",
        "from tensorflow.keras.layers import Conv2D, MaxPooling2D\n",
        "from tensorflow.keras.models import load_model\n",
        "from tensorflow.keras.utils import to_categorical\n",
        "from tensorflow.keras.optimizers import SGD\n",
        "import os"
      ],
      "execution_count": null,
      "outputs": []
    },
    {
      "cell_type": "code",
      "metadata": {
        "id": "oVDVCvsl9Lmc"
      },
      "source": [
        "batch_size=32\n",
        "num_classes=10\n",
        "epochs=10"
      ],
      "execution_count": null,
      "outputs": []
    },
    {
      "cell_type": "code",
      "metadata": {
        "id": "UliCh5BV9PPc",
        "colab": {
          "base_uri": "https://localhost:8080/"
        },
        "outputId": "f42b4e2b-c023-4507-c31b-169cccd60845"
      },
      "source": [
        "#load the CIFAR10 dataset\n",
        "\n",
        "(x_train,y_train),(x_test,y_test) = cifar10.load_data()"
      ],
      "execution_count": null,
      "outputs": [
        {
          "output_type": "stream",
          "text": [
            "Downloading data from https://www.cs.toronto.edu/~kriz/cifar-10-python.tar.gz\n",
            "170500096/170498071 [==============================] - 4s 0us/step\n"
          ],
          "name": "stdout"
        }
      ]
    },
    {
      "cell_type": "code",
      "metadata": {
        "id": "ULZ4zej_9UNt",
        "colab": {
          "base_uri": "https://localhost:8080/"
        },
        "outputId": "b400ca7e-77ac-4a6b-ccd7-6562489609ff"
      },
      "source": [
        "#Display data shape/dimesions\n",
        "print('x_train shape',x_train.shape)\n",
        "print(x_train.shape[0],'train samples')\n",
        "print(x_test.shape[0],'test samples')\n",
        "\n",
        "#Format the trainging data by normalizing and changing data type\n",
        "x_train=x_train.astype('float32')\n",
        "x_test=x_test.astype('float32')\n",
        "x_train/=255\n",
        "x_test/=255\n",
        "\n",
        "#one hot encode outputs\n",
        "y_train=to_categorical(y_train,num_classes)\n",
        "y_test=to_categorical(y_test,num_classes)"
      ],
      "execution_count": null,
      "outputs": [
        {
          "output_type": "stream",
          "text": [
            "x_train shape (50000, 32, 32, 3)\n",
            "50000 train samples\n",
            "10000 test samples\n"
          ],
          "name": "stdout"
        }
      ]
    },
    {
      "cell_type": "code",
      "metadata": {
        "id": "_6DesP2L9zFv",
        "colab": {
          "base_uri": "https://localhost:8080/"
        },
        "outputId": "702eaaf9-d4fc-423f-b802-2cdf0b304008"
      },
      "source": [
        "model=Sequential()\n",
        "#Padding = 'same' results in padding the input such that\n",
        "#the output has the same length as the original input\n",
        "model.add(Conv2D(32,(3,3),padding='same',input_shape=x_train.shape[1:]))\n",
        "model.add(Activation('relu'))\n",
        "model.add(Conv2D(32,(3,3)))\n",
        "model.add(Activation('relu'))\n",
        "model.add(MaxPooling2D(pool_size=(2,2)))\n",
        "model.add(Dropout(0.25))\n",
        " \n",
        "model.add(Conv2D(64,(3,3),padding='same'))\n",
        "model.add(Activation('relu'))\n",
        "model.add(Conv2D(64,(3,3)))\n",
        "model.add(Activation('relu'))\n",
        "model.add(MaxPooling2D(pool_size=(2,2)))\n",
        "model.add(Dropout(0.25))\n",
        " \n",
        "model.add(Flatten())\n",
        "model.add(Dense(512))\n",
        "model.add(Activation('relu'))\n",
        "model.add(Dropout(0.5))\n",
        "model.add(Dense(num_classes))\n",
        "model.add(Activation('softmax'))\n",
        " \n",
        "#model build\n",
        "model.compile(loss='categorical_crossentropy',optimizer=SGD(0.01),metrics=['accuracy'])\n",
        "print(model.summary())"
      ],
      "execution_count": null,
      "outputs": [
        {
          "output_type": "stream",
          "text": [
            "Model: \"sequential\"\n",
            "_________________________________________________________________\n",
            "Layer (type)                 Output Shape              Param #   \n",
            "=================================================================\n",
            "conv2d (Conv2D)              (None, 32, 32, 32)        896       \n",
            "_________________________________________________________________\n",
            "activation (Activation)      (None, 32, 32, 32)        0         \n",
            "_________________________________________________________________\n",
            "conv2d_1 (Conv2D)            (None, 30, 30, 32)        9248      \n",
            "_________________________________________________________________\n",
            "activation_1 (Activation)    (None, 30, 30, 32)        0         \n",
            "_________________________________________________________________\n",
            "max_pooling2d (MaxPooling2D) (None, 15, 15, 32)        0         \n",
            "_________________________________________________________________\n",
            "dropout (Dropout)            (None, 15, 15, 32)        0         \n",
            "_________________________________________________________________\n",
            "conv2d_2 (Conv2D)            (None, 15, 15, 64)        18496     \n",
            "_________________________________________________________________\n",
            "activation_2 (Activation)    (None, 15, 15, 64)        0         \n",
            "_________________________________________________________________\n",
            "conv2d_3 (Conv2D)            (None, 13, 13, 64)        36928     \n",
            "_________________________________________________________________\n",
            "activation_3 (Activation)    (None, 13, 13, 64)        0         \n",
            "_________________________________________________________________\n",
            "max_pooling2d_1 (MaxPooling2 (None, 6, 6, 64)          0         \n",
            "_________________________________________________________________\n",
            "dropout_1 (Dropout)          (None, 6, 6, 64)          0         \n",
            "_________________________________________________________________\n",
            "flatten (Flatten)            (None, 2304)              0         \n",
            "_________________________________________________________________\n",
            "dense (Dense)                (None, 512)               1180160   \n",
            "_________________________________________________________________\n",
            "activation_4 (Activation)    (None, 512)               0         \n",
            "_________________________________________________________________\n",
            "dropout_2 (Dropout)          (None, 512)               0         \n",
            "_________________________________________________________________\n",
            "dense_1 (Dense)              (None, 10)                5130      \n",
            "_________________________________________________________________\n",
            "activation_5 (Activation)    (None, 10)                0         \n",
            "=================================================================\n",
            "Total params: 1,250,858\n",
            "Trainable params: 1,250,858\n",
            "Non-trainable params: 0\n",
            "_________________________________________________________________\n",
            "None\n"
          ],
          "name": "stdout"
        }
      ]
    },
    {
      "cell_type": "markdown",
      "metadata": {
        "id": "3JNQc3Ka99Zx"
      },
      "source": [
        "#Training the model\n"
      ]
    },
    {
      "cell_type": "code",
      "metadata": {
        "id": "8TTFObGH-Ac0",
        "colab": {
          "base_uri": "https://localhost:8080/"
        },
        "outputId": "051929d8-879c-41f4-94c2-20b5ba877fbc"
      },
      "source": [
        "history=model.fit(x_train,y_train,batch_size=batch_size,epochs=epochs,validation_data=(x_test,y_test),shuffle=True,verbose=1)\n",
        "model.save('cifar_simple_cnn_2.h5')"
      ],
      "execution_count": null,
      "outputs": [
        {
          "output_type": "stream",
          "text": [
            "Epoch 1/10\n",
            "1563/1563 [==============================] - 7s 4ms/step - loss: 1.0744 - accuracy: 0.6196 - val_loss: 1.0052 - val_accuracy: 0.6526\n",
            "Epoch 2/10\n",
            "1563/1563 [==============================] - 7s 4ms/step - loss: 1.0382 - accuracy: 0.6319 - val_loss: 0.9481 - val_accuracy: 0.6689\n",
            "Epoch 3/10\n",
            "1563/1563 [==============================] - 7s 4ms/step - loss: 1.0017 - accuracy: 0.6443 - val_loss: 0.9315 - val_accuracy: 0.6765\n",
            "Epoch 4/10\n",
            "1563/1563 [==============================] - 7s 4ms/step - loss: 0.9647 - accuracy: 0.6580 - val_loss: 0.9964 - val_accuracy: 0.6488\n",
            "Epoch 5/10\n",
            "1563/1563 [==============================] - 7s 4ms/step - loss: 0.9410 - accuracy: 0.6667 - val_loss: 0.8599 - val_accuracy: 0.7007\n",
            "Epoch 6/10\n",
            "1563/1563 [==============================] - 7s 4ms/step - loss: 0.9116 - accuracy: 0.6778 - val_loss: 0.8712 - val_accuracy: 0.6941\n",
            "Epoch 7/10\n",
            "1563/1563 [==============================] - 7s 4ms/step - loss: 0.8882 - accuracy: 0.6877 - val_loss: 0.8518 - val_accuracy: 0.7035\n",
            "Epoch 8/10\n",
            "1563/1563 [==============================] - 7s 4ms/step - loss: 0.8629 - accuracy: 0.6969 - val_loss: 0.8032 - val_accuracy: 0.7224\n",
            "Epoch 9/10\n",
            "1563/1563 [==============================] - 7s 4ms/step - loss: 0.8461 - accuracy: 0.7015 - val_loss: 0.8162 - val_accuracy: 0.7193\n",
            "Epoch 10/10\n",
            "1563/1563 [==============================] - 7s 4ms/step - loss: 0.8185 - accuracy: 0.7113 - val_loss: 0.7669 - val_accuracy: 0.7326\n"
          ],
          "name": "stdout"
        }
      ]
    },
    {
      "cell_type": "code",
      "metadata": {
        "id": "FGgLFbdl-FCi",
        "colab": {
          "base_uri": "https://localhost:8080/"
        },
        "outputId": "aeea2b52-e7e4-40f2-9bfe-0b24392015c1"
      },
      "source": [
        "#Evaluate perfomance of trained model\n",
        "scores=model.evaluate(x_test,y_test,verbose=1)\n",
        "print('Test loss', scores[0])\n",
        "print('Test accuracy', scores[1])"
      ],
      "execution_count": null,
      "outputs": [
        {
          "output_type": "stream",
          "text": [
            "313/313 [==============================] - 1s 3ms/step - loss: 0.7669 - accuracy: 0.7326\n",
            "Test loss 0.7669417262077332\n",
            "Test accuracy 0.7325999736785889\n"
          ],
          "name": "stdout"
        }
      ]
    },
    {
      "cell_type": "markdown",
      "metadata": {
        "id": "do9zynis-KuO"
      },
      "source": [
        "#Test on some of the Test images"
      ]
    },
    {
      "cell_type": "code",
      "metadata": {
        "id": "SMOC2sEO-PmM"
      },
      "source": [
        "#create function to get class label\n",
        "def getName(label,class_labels):\n",
        "  return class_labels.get(int(label))\n",
        "  "
      ],
      "execution_count": null,
      "outputs": []
    },
    {
      "cell_type": "code",
      "metadata": {
        "id": "pLfv0THB-eJh"
      },
      "source": [
        "import numpy as np\n",
        "import matplotlib.pyplot as plt\n",
        "import cv2\n",
        "class_labels={0:'airplane',1:'automobile',2:'bird',3:'cat',4:'deer',5:'dog',6:'frog',7:'horse',8:'ship',9:'truck'}"
      ],
      "execution_count": null,
      "outputs": []
    },
    {
      "cell_type": "code",
      "metadata": {
        "id": "AlBzSi1w-h0z",
        "colab": {
          "base_uri": "https://localhost:8080/"
        },
        "outputId": "76960ee2-f4c5-4f2c-e8bb-7e4726cc57e4"
      },
      "source": [
        "class_labels"
      ],
      "execution_count": null,
      "outputs": [
        {
          "output_type": "execute_result",
          "data": {
            "text/plain": [
              "{0: 'airplane',\n",
              " 1: 'automobile',\n",
              " 2: 'bird',\n",
              " 3: 'cat',\n",
              " 4: 'deer',\n",
              " 5: 'dog',\n",
              " 6: 'frog',\n",
              " 7: 'horse',\n",
              " 8: 'ship',\n",
              " 9: 'truck'}"
            ]
          },
          "metadata": {
            "tags": []
          },
          "execution_count": 19
        }
      ]
    },
    {
      "cell_type": "code",
      "metadata": {
        "id": "Lp6ZUkx_-nUi",
        "colab": {
          "base_uri": "https://localhost:8080/",
          "height": 160
        },
        "outputId": "9c5f2605-132d-4bd3-ed2b-66e03309b79b"
      },
      "source": [
        "figure=plt.figure(figsize=(20,20))\n",
        "for i in range(5):\n",
        "  figure.add_subplot(1,5,i+1)\n",
        "  random_idx=np.random.randint(0,len(x_test))\n",
        "  plt.imshow(x_test[random_idx])\n",
        "  plt.axis='off'\n",
        "  label=np.squeeze(np.argmax(model.predict(x_test[random_idx].reshape(1,32,32,3)),axis=1),axis=0)\n",
        "  print(getName(label,class_labels), end='\\t')"
      ],
      "execution_count": null,
      "outputs": [
        {
          "output_type": "stream",
          "text": [
            "dog\tdog\ttruck\tdeer\thorse\t"
          ],
          "name": "stdout"
        },
        {
          "output_type": "display_data",
          "data": {
            "image/png": "[encoded data removed]",
            "text/plain": [
              "<Figure size 1440x1440 with 5 Axes>"
            ]
          },
          "metadata": {
            "tags": [],
            "needs_background": "light"
          }
        }
      ]
    },
    {
      "cell_type": "markdown",
      "metadata": {
        "id": "pRHVB5Ue-tnk"
      },
      "source": [
        "#Use transfer learning to get better accuracy"
      ]
    },
    {
      "cell_type": "code",
      "metadata": {
        "id": "iZakh2eQ-yw6"
      },
      "source": [
        "#Perform the imports\n",
        "import tensorflow as tf\n",
        "from tensorflow.keras import callbacks\n",
        "from tensorflow.keras import optimizers\n",
        "from tensorflow.keras.datasets import cifar10\n",
        "from tensorflow.keras import Model\n",
        "from tensorflow.keras.applications import vgg16 as vgg\n",
        "from tensorflow.keras.layers import Dropout,Flatten,Dense,GlobalAveragePooling2D, BatchNormalization\n",
        "from tensorflow.keras.preprocessing.image import ImageDataGenerator\n",
        "\n",
        "#define some parameters\n",
        "BATCH_SIZE=32\n",
        "EPOCHS=5\n",
        "NUM_CLASSES=10\n",
        "LEARNING_RATE=1e-4 \n",
        "MOMENTUM=0.9\n",
        "\n",
        "#IMPORT  scipy to resize our images quickly\n",
        "import scipy.misc\n",
        "(x_train,y_train),(x_test,y_test)=cifar10.load_data()\n",
        "x_train=np.array([cv2.resize(x,(48,48), interpolation=cv2.INTER_AREA) for x in x_train])\n",
        "x_test=np.array([cv2.resize(x,(48,48), interpolation=cv2.INTER_AREA) for x in x_test])"
      ],
      "execution_count": null,
      "outputs": []
    },
    {
      "cell_type": "code",
      "metadata": {
        "id": "X5aWfpvr5hsz"
      },
      "source": [
        "#perfom one-hot encoding\n",
        "from tensorflow.keras.utils import to_categorical\n",
        "y_train=to_categorical(y_train, NUM_CLASSES)\n",
        "y_test=to_categorical(y_test, NUM_CLASSES)"
      ],
      "execution_count": null,
      "outputs": []
    },
    {
      "cell_type": "markdown",
      "metadata": {
        "id": "OinZzZDM5rwG"
      },
      "source": [
        "#Import the pre-trained model VGG16, but without the 'HEAD' layer"
      ]
    },
    {
      "cell_type": "code",
      "metadata": {
        "id": "yJD_KjniSLg4",
        "colab": {
          "base_uri": "https://localhost:8080/",
          "height": 70
        },
        "outputId": "b7f3c070-b3c4-4bb5-e386-1f3d2e80a614"
      },
      "source": [
        "from tensorflow.keras.applications import vgg16 as vgg\n",
        "base_model = vgg.VGG16(weights='imagenet',include_top=False,input_shape=(48,48,3))"
      ],
      "execution_count": null,
      "outputs": [
        {
          "output_type": "stream",
          "text": [
            "Downloading data from https://storage.googleapis.com/tensorflow/keras-applications/vgg16/vgg16_weights_tf_dim_ordering_tf_kernels_notop.h5\n",
            "58892288/58889256 [==============================] - 2s 0us/step\n"
          ],
          "name": "stdout"
        }
      ]
    },
    {
      "cell_type": "markdown",
      "metadata": {
        "id": "X6BdGDTZVZ9K"
      },
      "source": [
        "#Extract the last layer from the third block of the vgg16 model"
      ]
    },
    {
      "cell_type": "code",
      "metadata": {
        "id": "8X3RNViZ51Vh"
      },
      "source": [
        "last = base_model.get_layer('block3_pool').output"
      ],
      "execution_count": null,
      "outputs": []
    },
    {
      "cell_type": "code",
      "metadata": {
        "id": "DMMu9TaC6JQi",
        "colab": {
          "base_uri": "https://localhost:8080/",
          "height": 34
        },
        "outputId": "f9c7a2d6-1d3a-4a4e-fea9-ba0560ecc69d"
      },
      "source": [
        "last"
      ],
      "execution_count": null,
      "outputs": [
        {
          "output_type": "execute_result",
          "data": {
            "text/plain": [
              "<tf.Tensor 'block3_pool/MaxPool:0' shape=(None, 6, 6, 256) dtype=float32>"
            ]
          },
          "metadata": {
            "tags": []
          },
          "execution_count": 50
        }
      ]
    },
    {
      "cell_type": "markdown",
      "metadata": {
        "id": "IPRDGlEw6MIa"
      },
      "source": [
        "#Add classification layers on top of it\n"
      ]
    },
    {
      "cell_type": "code",
      "metadata": {
        "id": "N4OM-zmO6SWa"
      },
      "source": [
        "#Add classification layers on top of it\n",
        "#x is our model that we're putting  ontop part of our pre-trained model\n",
        "x=GlobalAveragePooling2D()(last)\n",
        "x=BatchNormalization()(x)\n",
        "x=Dense(256,activation='relu')(x)\n",
        "x=Dense(256,activation='relu')(x)\n",
        "x=Dropout(0.5)(x)\n",
        "\n",
        "#Make our top model\n",
        "number_of_classes=10\n",
        "top=Dense(number_of_classes,activation='softmax') (x)\n",
        "\n",
        "#construct full model\n",
        "model=Model(base_model.input,top)"
      ],
      "execution_count": null,
      "outputs": []
    },
    {
      "cell_type": "markdown",
      "metadata": {
        "id": "dIeEwoTl6fPN"
      },
      "source": [
        "#Freeze all layers in the model as we'll be reusing them"
      ]
    },
    {
      "cell_type": "code",
      "metadata": {
        "id": "91KTOSLv6lvu"
      },
      "source": [
        "#iterate through the base model to 'freeze' the layer so that we dont train them\n",
        "\n",
        "for layer in base_model.layers:\n",
        "  layer.trainable=False"
      ],
      "execution_count": null,
      "outputs": []
    },
    {
      "cell_type": "markdown",
      "metadata": {
        "id": "ueec8x_W6rsd"
      },
      "source": [
        "#Compile the merged model"
      ]
    },
    {
      "cell_type": "code",
      "metadata": {
        "id": "AwYMyKDS6v9I"
      },
      "source": [
        "#compiling the merged model\n",
        "model.compile(loss='binary_crossentropy', optimizer=optimizers.Adam(lr=1e-4),metrics=['accuracy'])"
      ],
      "execution_count": null,
      "outputs": []
    },
    {
      "cell_type": "markdown",
      "metadata": {
        "id": "Hs62r7c26zuR"
      },
      "source": [
        "#Model Summary"
      ]
    },
    {
      "cell_type": "code",
      "metadata": {
        "id": "p2GjCtFq62tP",
        "colab": {
          "base_uri": "https://localhost:8080/",
          "height": 722
        },
        "outputId": "e5063f36-f4cb-444b-ed23-dbb6d9b842b8"
      },
      "source": [
        "model.summary()"
      ],
      "execution_count": null,
      "outputs": [
        {
          "output_type": "stream",
          "text": [
            "Model: \"functional_3\"\n",
            "_________________________________________________________________\n",
            "Layer (type)                 Output Shape              Param #   \n",
            "=================================================================\n",
            "input_1 (InputLayer)         [(None, 48, 48, 3)]       0         \n",
            "_________________________________________________________________\n",
            "block1_conv1 (Conv2D)        (None, 48, 48, 64)        1792      \n",
            "_________________________________________________________________\n",
            "block1_conv2 (Conv2D)        (None, 48, 48, 64)        36928     \n",
            "_________________________________________________________________\n",
            "block1_pool (MaxPooling2D)   (None, 24, 24, 64)        0         \n",
            "_________________________________________________________________\n",
            "block2_conv1 (Conv2D)        (None, 24, 24, 128)       73856     \n",
            "_________________________________________________________________\n",
            "block2_conv2 (Conv2D)        (None, 24, 24, 128)       147584    \n",
            "_________________________________________________________________\n",
            "block2_pool (MaxPooling2D)   (None, 12, 12, 128)       0         \n",
            "_________________________________________________________________\n",
            "block3_conv1 (Conv2D)        (None, 12, 12, 256)       295168    \n",
            "_________________________________________________________________\n",
            "block3_conv2 (Conv2D)        (None, 12, 12, 256)       590080    \n",
            "_________________________________________________________________\n",
            "block3_conv3 (Conv2D)        (None, 12, 12, 256)       590080    \n",
            "_________________________________________________________________\n",
            "block3_pool (MaxPooling2D)   (None, 6, 6, 256)         0         \n",
            "_________________________________________________________________\n",
            "global_average_pooling2d (Gl (None, 256)               0         \n",
            "_________________________________________________________________\n",
            "batch_normalization (BatchNo (None, 256)               1024      \n",
            "_________________________________________________________________\n",
            "dense_3 (Dense)              (None, 256)               65792     \n",
            "_________________________________________________________________\n",
            "dense_4 (Dense)              (None, 256)               65792     \n",
            "_________________________________________________________________\n",
            "dropout_5 (Dropout)          (None, 256)               0         \n",
            "_________________________________________________________________\n",
            "dense_5 (Dense)              (None, 10)                2570      \n",
            "=================================================================\n",
            "Total params: 1,870,666\n",
            "Trainable params: 134,666\n",
            "Non-trainable params: 1,736,000\n",
            "_________________________________________________________________\n"
          ],
          "name": "stdout"
        }
      ]
    },
    {
      "cell_type": "markdown",
      "metadata": {
        "id": "fWwwlYsD6711"
      },
      "source": [
        "#Setup to use the Data Generator Function"
      ]
    },
    {
      "cell_type": "code",
      "metadata": {
        "id": "pUH4E_lvaToL"
      },
      "source": [
        "from keras.preprocessing.image import ImageDataGenerator\n",
        "train_datagen = ImageDataGenerator(rescale=1.0/255,horizontal_flip=False)"
      ],
      "execution_count": null,
      "outputs": []
    },
    {
      "cell_type": "code",
      "metadata": {
        "id": "FfNywnFcajfY"
      },
      "source": [
        "#Use our data generator to get our data\n",
        "train_datagen.fit(x_train)\n",
        "train_generator=train_datagen.flow(x_train,y_train,batch_size=BATCH_SIZE)\n",
        "val_datagen=ImageDataGenerator(rescale=1.0/255,horizontal_flip=False)\n",
        "val_datagen.fit(x_test)\n",
        "val_generator=val_datagen.flow(x_test,y_test,batch_size=BATCH_SIZE)"
      ],
      "execution_count": null,
      "outputs": []
    },
    {
      "cell_type": "markdown",
      "metadata": {
        "id": "FU-Tyj_gb3QB"
      },
      "source": [
        "#Train the model"
      ]
    },
    {
      "cell_type": "code",
      "metadata": {
        "id": "i9IeisF9b6vI",
        "colab": {
          "base_uri": "https://localhost:8080/",
          "height": 255
        },
        "outputId": "9af7c4bc-6e33-44cd-b659-732757e87b15"
      },
      "source": [
        "#We are ready to start training the model now\n",
        "train_steps_per_epoch=x_train.shape[0] // BATCH_SIZE\n",
        "val_steps_per_epoch=x_test.shape[0] // BATCH_SIZE\n",
        "history=model.fit_generator(train_generator,steps_per_epoch=train_steps_per_epoch, validation_data=val_generator,validation_steps=val_steps_per_epoch, epochs=EPOCHS, verbose=1)"
      ],
      "execution_count": null,
      "outputs": [
        {
          "output_type": "stream",
          "text": [
            "WARNING:tensorflow:From <ipython-input-57-33cfba47b0dc>:4: Model.fit_generator (from tensorflow.python.keras.engine.training) is deprecated and will be removed in a future version.\n",
            "Instructions for updating:\n",
            "Please use Model.fit, which supports generators.\n",
            "Epoch 1/5\n",
            "1562/1562 [==============================] - 25s 16ms/step - loss: 0.2328 - accuracy: 0.4658 - val_loss: 0.1752 - val_accuracy: 0.6215\n",
            "Epoch 2/5\n",
            "1562/1562 [==============================] - 25s 16ms/step - loss: 0.1817 - accuracy: 0.6029 - val_loss: 0.1543 - val_accuracy: 0.6661\n",
            "Epoch 3/5\n",
            "1562/1562 [==============================] - 25s 16ms/step - loss: 0.1639 - accuracy: 0.6472 - val_loss: 0.1433 - val_accuracy: 0.6917\n",
            "Epoch 4/5\n",
            "1562/1562 [==============================] - 25s 16ms/step - loss: 0.1544 - accuracy: 0.6688 - val_loss: 0.1376 - val_accuracy: 0.7063\n",
            "Epoch 5/5\n",
            "1562/1562 [==============================] - 24s 16ms/step - loss: 0.1464 - accuracy: 0.6874 - val_loss: 0.1315 - val_accuracy: 0.7233\n"
          ],
          "name": "stdout"
        }
      ]
    },
    {
      "cell_type": "markdown",
      "metadata": {
        "id": "lqyU5DOEgKQ2"
      },
      "source": [
        "with 5 epochs our accuracy is ~72% compared to 62% with 10 epochs. furthermore using transfer learning for more epochs allows us to attain even better accuracy than with the previous model. we are therefore taking adv of pre-trained model and training only the top layers, this allows us to take adv of the pre-trained weights. We need to check \"what exactly do these learned weights know?\""
      ]
    },
    {
      "cell_type": "markdown",
      "metadata": {
        "id": "AKVl9rEbjJjW"
      },
      "source": [
        "#Visualizing the filters of the pre-trained VGG16 model"
      ]
    },
    {
      "cell_type": "code",
      "metadata": {
        "id": "Npk1oJSdjVXt"
      },
      "source": [
        "from tensorflow.keras.applications import vgg16 as vgg\n",
        "model = vgg.VGG16(weights='imagenet',include_top=False)\n",
        "\n",
        "#get the symbolic outputs of each 'key' layer(we give them unique names)\n",
        "layer_dict = dict([(layer.name,layer) for layer in model.layers])"
      ],
      "execution_count": null,
      "outputs": []
    },
    {
      "cell_type": "code",
      "metadata": {
        "id": "0ZxyDYtLkVkn",
        "colab": {
          "base_uri": "https://localhost:8080/",
          "height": 356
        },
        "outputId": "7937ac44-7031-475f-bcb5-679e33dbcf1f"
      },
      "source": [
        "layer_dict"
      ],
      "execution_count": null,
      "outputs": [
        {
          "output_type": "execute_result",
          "data": {
            "text/plain": [
              "{'block1_conv1': <tensorflow.python.keras.layers.convolutional.Conv2D at 0x7fe843d33128>,\n",
              " 'block1_conv2': <tensorflow.python.keras.layers.convolutional.Conv2D at 0x7fe831ab2780>,\n",
              " 'block1_pool': <tensorflow.python.keras.layers.pooling.MaxPooling2D at 0x7fe831a91a58>,\n",
              " 'block2_conv1': <tensorflow.python.keras.layers.convolutional.Conv2D at 0x7fe843d33278>,\n",
              " 'block2_conv2': <tensorflow.python.keras.layers.convolutional.Conv2D at 0x7fe843d335c0>,\n",
              " 'block2_pool': <tensorflow.python.keras.layers.pooling.MaxPooling2D at 0x7fe831b39cc0>,\n",
              " 'block3_conv1': <tensorflow.python.keras.layers.convolutional.Conv2D at 0x7fe831b39550>,\n",
              " 'block3_conv2': <tensorflow.python.keras.layers.convolutional.Conv2D at 0x7fe831b49b70>,\n",
              " 'block3_conv3': <tensorflow.python.keras.layers.convolutional.Conv2D at 0x7fe831a64f28>,\n",
              " 'block3_pool': <tensorflow.python.keras.layers.pooling.MaxPooling2D at 0x7fe831cdc240>,\n",
              " 'block4_conv1': <tensorflow.python.keras.layers.convolutional.Conv2D at 0x7fe831ce8630>,\n",
              " 'block4_conv2': <tensorflow.python.keras.layers.convolutional.Conv2D at 0x7fe831a64fd0>,\n",
              " 'block4_conv3': <tensorflow.python.keras.layers.convolutional.Conv2D at 0x7fe831cd34e0>,\n",
              " 'block4_pool': <tensorflow.python.keras.layers.pooling.MaxPooling2D at 0x7fe831cc2390>,\n",
              " 'block5_conv1': <tensorflow.python.keras.layers.convolutional.Conv2D at 0x7fe831cd3ba8>,\n",
              " 'block5_conv2': <tensorflow.python.keras.layers.convolutional.Conv2D at 0x7fe831cd37f0>,\n",
              " 'block5_conv3': <tensorflow.python.keras.layers.convolutional.Conv2D at 0x7fe831cc09e8>,\n",
              " 'block5_pool': <tensorflow.python.keras.layers.pooling.MaxPooling2D at 0x7fe831ce3cf8>,\n",
              " 'input_2': <tensorflow.python.keras.engine.input_layer.InputLayer at 0x7fe843d2cf60>}"
            ]
          },
          "metadata": {
            "tags": []
          },
          "execution_count": 59
        }
      ]
    },
    {
      "cell_type": "code",
      "metadata": {
        "id": "_hO01R-UkcyT",
        "colab": {
          "base_uri": "https://localhost:8080/",
          "height": 235
        },
        "outputId": "3e7fa141-8943-48fd-f501-a129b792bdd6"
      },
      "source": [
        "#sumarise the filter shapes\n",
        "for layer in model.layers:\n",
        "   #check for conv layer\n",
        "   if 'conv' not in layer.name:\n",
        "     continue\n",
        "  #get filter weights\n",
        "   filters,biases = layer.get_weights()\n",
        "   print(layer.name,filters.shape)"
      ],
      "execution_count": null,
      "outputs": [
        {
          "output_type": "stream",
          "text": [
            "block1_conv1 (3, 3, 3, 64)\n",
            "block1_conv2 (3, 3, 64, 64)\n",
            "block2_conv1 (3, 3, 64, 128)\n",
            "block2_conv2 (3, 3, 128, 128)\n",
            "block3_conv1 (3, 3, 128, 256)\n",
            "block3_conv2 (3, 3, 256, 256)\n",
            "block3_conv3 (3, 3, 256, 256)\n",
            "block4_conv1 (3, 3, 256, 512)\n",
            "block4_conv2 (3, 3, 512, 512)\n",
            "block4_conv3 (3, 3, 512, 512)\n",
            "block5_conv1 (3, 3, 512, 512)\n",
            "block5_conv2 (3, 3, 512, 512)\n",
            "block5_conv3 (3, 3, 512, 512)\n"
          ],
          "name": "stdout"
        }
      ]
    },
    {
      "cell_type": "code",
      "metadata": {
        "id": "LvQRA22xlGLL"
      },
      "source": [
        "#we retrieve the weights from the third hidden layer\n",
        "filters,biases = model.layers[2].get_weights()\n"
      ],
      "execution_count": null,
      "outputs": []
    },
    {
      "cell_type": "code",
      "metadata": {
        "id": "_IF9FL9plc1v",
        "colab": {
          "base_uri": "https://localhost:8080/",
          "height": 1000
        },
        "outputId": "79d7c8ff-1d99-4ed2-d876-4dab927b93b6"
      },
      "source": [
        "filters"
      ],
      "execution_count": null,
      "outputs": [
        {
          "output_type": "execute_result",
          "data": {
            "text/plain": [
              "array([[[[ 1.66219279e-01,  1.42701820e-01, -4.02113283e-03, ...,\n",
              "           6.18828237e-02, -1.74057148e-02, -3.00644431e-02],\n",
              "         [ 9.46945231e-03,  3.87477316e-03,  5.08365929e-02, ...,\n",
              "          -2.77981739e-02,  1.71373668e-03,  6.82722731e-03],\n",
              "         [ 6.32681847e-02,  2.12877709e-02, -1.63465310e-02, ...,\n",
              "           8.80054955e-04,  6.68104272e-03, -1.41139806e-03],\n",
              "         ...,\n",
              "         [ 3.47490981e-03,  8.47019628e-02, -4.07223180e-02, ...,\n",
              "          -1.13523193e-02, -7.48998486e-03,  3.19077494e-03],\n",
              "         [ 5.97234145e-02,  4.97663505e-02, -3.23118735e-03, ...,\n",
              "           1.43114366e-02,  3.03175431e-02, -4.23925705e-02],\n",
              "         [ 1.33459672e-01,  4.95484173e-02, -1.78808011e-02, ...,\n",
              "           2.25385167e-02,  3.02020740e-02, -2.17075031e-02]],\n",
              "\n",
              "        [[ 2.12007999e-01,  2.10127644e-02, -1.47626130e-02, ...,\n",
              "           2.29580477e-02,  1.23102348e-02, -3.08422819e-02],\n",
              "         [-2.62175221e-03,  7.42094172e-03,  6.74030930e-02, ...,\n",
              "          -3.06594316e-02,  1.80578313e-03,  4.27369215e-03],\n",
              "         [ 2.27197763e-02, -1.07841045e-02, -1.31095545e-02, ...,\n",
              "          -1.15751950e-02,  4.18359675e-02, -1.92268589e-03],\n",
              "         ...,\n",
              "         [-2.70304317e-03,  7.41161704e-02, -3.32262330e-02, ...,\n",
              "          -1.10277236e-02,  1.39831286e-02,  5.34419343e-03],\n",
              "         [-3.20506282e-02, -2.40584910e-02, -4.52397857e-03, ...,\n",
              "          -6.04042644e-03,  2.01962605e-01, -5.04491515e-02],\n",
              "         [ 1.68114193e-02, -2.33167298e-02, -1.40886130e-02, ...,\n",
              "          -7.79278344e-03,  1.28428593e-01, -2.58184522e-02]],\n",
              "\n",
              "        [[-5.91698708e-03, -2.26223674e-02,  4.88128467e-03, ...,\n",
              "           4.13784146e-04, -4.84175496e-02,  1.63675251e-03],\n",
              "         [-3.93767562e-03,  9.07397643e-03,  5.36517277e-02, ...,\n",
              "          -2.56106984e-02, -4.17886395e-03,  2.47476017e-03],\n",
              "         [-3.07008922e-02, -1.09781921e-02, -3.69096454e-03, ...,\n",
              "          -1.19221993e-02, -1.39777903e-02,  8.52933805e-03],\n",
              "         ...,\n",
              "         [ 5.83332591e-03,  2.96198055e-02, -3.56571227e-02, ...,\n",
              "          -1.01153394e-02,  5.06090466e-03, -2.86859111e-03],\n",
              "         [-7.80934095e-02, -1.95693132e-02,  2.14814320e-02, ...,\n",
              "           7.42452731e-03,  5.41617945e-02, -2.35790759e-02],\n",
              "         [-7.82641992e-02, -2.47034207e-02,  1.36250593e-02, ...,\n",
              "          -7.53259566e-03, -2.59861015e-02,  4.52143652e-03]]],\n",
              "\n",
              "\n",
              "       [[[ 1.99202523e-01,  5.03257252e-02, -1.93236247e-02, ...,\n",
              "           1.62308700e-02, -1.15369558e-02,  1.55777042e-03],\n",
              "         [-1.38656620e-03,  4.52297740e-03,  6.65066689e-02, ...,\n",
              "          -3.00004911e-02,  1.71904117e-04, -1.11898372e-03],\n",
              "         [ 2.14257818e-02,  1.79782789e-03, -1.76792312e-02, ...,\n",
              "          -6.09106943e-03, -3.21686491e-02, -1.07312342e-03],\n",
              "         ...,\n",
              "         [-1.47800148e-02,  7.77616128e-02, -2.67065037e-02, ...,\n",
              "          -8.10234528e-03, -1.15585206e-02, -5.30505227e-03],\n",
              "         [-1.39283072e-02,  1.69547591e-02, -1.20282415e-02, ...,\n",
              "           1.25513040e-02, -8.44068080e-02, -4.48253192e-02],\n",
              "         [ 2.55671684e-02,  7.02229328e-03, -2.82986648e-02, ...,\n",
              "           1.17048556e-02, -7.34802186e-02, -2.06979234e-02]],\n",
              "\n",
              "        [[-2.59410664e-02, -4.97468375e-02, -2.42083799e-02, ...,\n",
              "          -2.39597876e-02,  2.09030695e-02,  1.69499479e-02],\n",
              "         [-4.78290301e-03,  1.04173329e-02,  8.31823424e-02, ...,\n",
              "          -3.18786576e-02,  3.48328054e-03, -3.56311840e-03],\n",
              "         [-3.81173752e-02, -1.85197107e-02, -1.43900532e-02, ...,\n",
              "          -1.41960718e-02,  3.14613059e-02,  4.11967095e-03],\n",
              "         ...,\n",
              "         [-1.79932006e-02,  7.17700496e-02, -1.99375115e-02, ...,\n",
              "          -6.12784317e-03,  1.66521706e-02, -7.48346280e-03],\n",
              "         [-8.91536921e-02, -4.69055325e-02, -1.37380632e-02, ...,\n",
              "          -8.06835108e-03,  6.04359731e-02, -4.47445139e-02],\n",
              "         [-1.00021079e-01, -3.55393849e-02, -2.46136412e-02, ...,\n",
              "          -7.50665693e-03,  9.11064222e-02, -1.06519591e-02]],\n",
              "\n",
              "        [[-9.84916389e-02, -5.77464141e-02, -4.49889433e-03, ...,\n",
              "          -2.21592579e-02, -9.32130869e-03,  5.57853021e-02],\n",
              "         [ 4.70533501e-03,  1.18583711e-02,  6.85855076e-02, ...,\n",
              "          -2.62385849e-02, -2.82203127e-03, -4.67023626e-03],\n",
              "         [-2.28894763e-02, -7.75412470e-03, -9.86886956e-03, ...,\n",
              "          -1.22523597e-02,  4.30414118e-02,  1.28994938e-02],\n",
              "         ...,\n",
              "         [ 2.93275771e-05,  1.62800644e-02, -2.53228396e-02, ...,\n",
              "          -8.11440870e-03,  9.42004658e-03, -1.69352964e-02],\n",
              "         [-4.56118677e-03, -3.88334878e-02, -8.15101550e-04, ...,\n",
              "          -7.37672672e-05,  2.05828294e-01, -1.84731018e-02],\n",
              "         [-3.79626676e-02, -1.82646457e-02, -7.20302528e-03, ...,\n",
              "          -1.28044421e-03,  1.40015617e-01,  1.13147246e-02]]],\n",
              "\n",
              "\n",
              "       [[[-1.11585744e-02, -4.15539136e-03, -6.83113467e-03, ...,\n",
              "           3.17358202e-03, -6.52846992e-02,  8.59456360e-02],\n",
              "         [-6.14583818e-03,  4.85422462e-03,  5.14627509e-02, ...,\n",
              "          -2.23777443e-02, -1.03412592e-03, -8.19014851e-03],\n",
              "         [-1.00106997e-02, -1.59974187e-03, -1.14092128e-02, ...,\n",
              "          -3.87838250e-03, -3.99293639e-02,  1.13589503e-02],\n",
              "         ...,\n",
              "         [-1.68860350e-02,  5.18255346e-02, -2.66014934e-02, ...,\n",
              "          -1.99763244e-03,  4.35560057e-03, -4.49330434e-02],\n",
              "         [-1.34146223e-02,  6.32185815e-03, -7.33473897e-03, ...,\n",
              "           4.59014578e-03, -2.98611149e-02,  3.69221941e-02],\n",
              "         [-2.88858525e-02, -4.22423892e-03, -1.42897591e-02, ...,\n",
              "           1.11823296e-02, -7.52132908e-02,  1.67242344e-02]],\n",
              "\n",
              "        [[-1.02114283e-01, -5.26558608e-02, -1.00238100e-02, ...,\n",
              "          -1.37801170e-02, -4.94753271e-02,  1.25953421e-01],\n",
              "         [ 2.65349774e-03,  1.04075735e-02,  6.73149154e-02, ...,\n",
              "          -2.37589777e-02,  6.13968645e-04, -9.96601582e-03],\n",
              "         [-1.50703192e-02, -1.28871305e-02, -8.77845287e-03, ...,\n",
              "          -1.01640215e-02, -4.76290248e-02,  1.36717530e-02],\n",
              "         ...,\n",
              "         [-5.43789240e-03,  3.35888155e-02, -2.11151708e-02, ...,\n",
              "          -3.83130647e-03, -1.02301398e-02, -5.32924160e-02],\n",
              "         [-2.21891310e-02, -4.92077954e-02, -1.38867581e-02, ...,\n",
              "          -1.28568839e-02, -9.37007815e-02,  5.59309907e-02],\n",
              "         [-2.61166841e-02, -3.50148268e-02, -1.47816772e-02, ...,\n",
              "          -2.86548026e-03, -1.01101905e-01,  1.94419883e-02]],\n",
              "\n",
              "        [[ 2.73401570e-02, -3.54428887e-02,  1.18577422e-03, ...,\n",
              "           5.02943760e-04,  4.51298095e-02,  1.23520821e-01],\n",
              "         [ 9.48381796e-03,  1.12858564e-02,  5.32916747e-02, ...,\n",
              "          -1.81195941e-02, -1.31687860e-03, -1.01092532e-02],\n",
              "         [ 3.73495184e-02, -7.93821830e-03, -5.94039401e-03, ...,\n",
              "          -7.96878152e-03,  1.53274648e-02,  9.63651482e-03],\n",
              "         ...,\n",
              "         [-2.60413792e-02, -2.53635142e-02, -2.81382054e-02, ...,\n",
              "          -6.63971901e-03, -7.26283342e-03, -5.57855107e-02],\n",
              "         [ 2.67488584e-02, -4.73727398e-02, -3.06198676e-03, ...,\n",
              "          -4.82000969e-03,  4.08617556e-02,  6.99444860e-02],\n",
              "         [ 7.98859298e-02, -2.87372041e-02,  6.38093508e-04, ...,\n",
              "           9.73386108e-04,  4.21557203e-02,  1.60824433e-02]]]],\n",
              "      dtype=float32)"
            ]
          },
          "metadata": {
            "tags": []
          },
          "execution_count": 62
        }
      ]
    },
    {
      "cell_type": "code",
      "metadata": {
        "id": "aswtDGAglnwy",
        "colab": {
          "base_uri": "https://localhost:8080/",
          "height": 235
        },
        "outputId": "51fe5e42-de9b-4752-d203-ead68f9c7f41"
      },
      "source": [
        "biases"
      ],
      "execution_count": null,
      "outputs": [
        {
          "output_type": "execute_result",
          "data": {
            "text/plain": [
              "array([-0.30912212,  0.36397225,  0.13737613,  0.07717966,  0.9052184 ,\n",
              "        0.08885256,  0.10789118, -0.23106739, -0.6318097 ,  0.18161367,\n",
              "       -0.33391494,  0.1961724 ,  0.43838617,  0.1938708 ,  0.10894354,\n",
              "        0.10315038, -1.0271513 ,  0.05252688,  0.13118458,  0.22851577,\n",
              "       -0.71377224,  0.2154155 , -0.6981962 ,  0.04061132,  0.13955347,\n",
              "        0.28767544,  0.35358745,  0.3937295 ,  0.43452853, -0.48259264,\n",
              "        0.02631121,  0.09220165,  0.05196398,  0.550705  ,  0.32368094,\n",
              "        0.07263482, -0.17745508,  0.3761972 ,  0.39344102,  0.17673127,\n",
              "       -0.15784228,  0.26051855,  0.08342359,  0.08603705, -0.09131282,\n",
              "        0.22932515,  0.2998315 ,  0.13511261, -0.3835829 ,  0.10912544,\n",
              "       -0.53432876,  0.4741787 , -0.0740848 ,  0.30046257,  0.12590808,\n",
              "        0.16480374,  0.2403943 ,  0.23401979, -0.19334187,  0.01663565,\n",
              "        0.27144948,  0.03385786,  0.06076292, -0.5825159 ], dtype=float32)"
            ]
          },
          "metadata": {
            "tags": []
          },
          "execution_count": 63
        }
      ]
    },
    {
      "cell_type": "code",
      "metadata": {
        "id": "l0VdOQ2flxDa",
        "colab": {
          "base_uri": "https://localhost:8080/",
          "height": 34
        },
        "outputId": "c4ec6d3a-ceab-4bcc-a5b8-1a46f2cdce14"
      },
      "source": [
        "#shape of the conv filters\n",
        "filters.shape"
      ],
      "execution_count": null,
      "outputs": [
        {
          "output_type": "execute_result",
          "data": {
            "text/plain": [
              "(3, 3, 64, 64)"
            ]
          },
          "metadata": {
            "tags": []
          },
          "execution_count": 64
        }
      ]
    },
    {
      "cell_type": "code",
      "metadata": {
        "id": "BrjGSDMyl2e2",
        "colab": {
          "base_uri": "https://localhost:8080/",
          "height": 34
        },
        "outputId": "122b97db-6729-4d92-ab67-cb40e3b6f0b1"
      },
      "source": [
        "#shape of biases\n",
        "biases.shape"
      ],
      "execution_count": null,
      "outputs": [
        {
          "output_type": "execute_result",
          "data": {
            "text/plain": [
              "(64,)"
            ]
          },
          "metadata": {
            "tags": []
          },
          "execution_count": 65
        }
      ]
    },
    {
      "cell_type": "code",
      "metadata": {
        "id": "XGz-gIoomdI_"
      },
      "source": [
        "#normalize the filters values to be btn 0-1 so that we can visualize them\n",
        "f_min,f_max = filters.min(),filters.max()\n",
        "filters = (filters-f_min)/(f_max-f_min)"
      ],
      "execution_count": null,
      "outputs": []
    },
    {
      "cell_type": "code",
      "metadata": {
        "id": "J4FB0iXBm0QR",
        "colab": {
          "base_uri": "https://localhost:8080/",
          "height": 34
        },
        "outputId": "905168e7-4cf1-4c82-cda5-d8fdaa5a105e"
      },
      "source": [
        "f_min"
      ],
      "execution_count": null,
      "outputs": [
        {
          "output_type": "execute_result",
          "data": {
            "text/plain": [
              "-0.21561293"
            ]
          },
          "metadata": {
            "tags": []
          },
          "execution_count": 67
        }
      ]
    },
    {
      "cell_type": "code",
      "metadata": {
        "id": "VmzRz4n7m5jN",
        "colab": {
          "base_uri": "https://localhost:8080/",
          "height": 34
        },
        "outputId": "9d35ab1a-d7a6-4cdb-ddbd-807cc936ce68"
      },
      "source": [
        "f_max"
      ],
      "execution_count": null,
      "outputs": [
        {
          "output_type": "execute_result",
          "data": {
            "text/plain": [
              "0.28917095"
            ]
          },
          "metadata": {
            "tags": []
          },
          "execution_count": 68
        }
      ]
    },
    {
      "cell_type": "code",
      "metadata": {
        "id": "CM1E8DSKnMFc",
        "colab": {
          "base_uri": "https://localhost:8080/",
          "height": 252
        },
        "outputId": "c68a632d-adf8-4699-929d-98bc0763630e"
      },
      "source": [
        "#we visualize the filters\n",
        "import matplotlib.pyplot as plt\n",
        "#plot the first few filters\n",
        "n_filters,ix=6,1\n",
        "\n",
        "for i in range (n_filters):\n",
        "  #get the filter\n",
        "  f = filters[:,:,:,i]\n",
        "  #plot each channel separately \n",
        "  for j in range(3):\n",
        "    #specify subplot and turn on axis\n",
        "    ax = plt.subplot(n_filters,3,ix)\n",
        "    ax.set_xticks([])\n",
        "    ax.set_yticks([])\n",
        "    #plot filter channel in gray scale\n",
        "    plt.imshow(f[:,:,j],cmap='gray')\n",
        "    ix+=1\n",
        "#show the figure\n",
        "plt.show()\n",
        "\n"
      ],
      "execution_count": null,
      "outputs": [
        {
          "output_type": "display_data",
          "data": {
            "image/png": "[encoded data removed]",
            "text/plain": [
              "<Figure size 432x288 with 18 Axes>"
            ]
          },
          "metadata": {
            "tags": []
          }
        }
      ]
    },
    {
      "cell_type": "markdown",
      "metadata": {
        "id": "d3UpoPUDpCNW"
      },
      "source": [
        "#Visualize the activation feature map for the VGG16 by running an input image"
      ]
    },
    {
      "cell_type": "code",
      "metadata": {
        "id": "v5RkNgN_pQD1",
        "colab": {
          "base_uri": "https://localhost:8080/",
          "height": 70
        },
        "outputId": "601bd93f-8142-4a13-dbfb-c2920fa3b019"
      },
      "source": [
        "#plot the feature map of the 1st conv layer for given image\n",
        "from tensorflow.keras.applications.vgg16 import  VGG16\n",
        "from tensorflow.keras.applications.vgg16 import preprocess_input\n",
        "from tensorflow.keras.preprocessing.image import load_img\n",
        "from tensorflow.keras.preprocessing.image import  img_to_array\n",
        "from tensorflow.keras.models import Model\n",
        "import matplotlib.pyplot as plt\n",
        "from numpy import expand_dims\n",
        "\n",
        "#load the model\n",
        "model = VGG16()"
      ],
      "execution_count": null,
      "outputs": [
        {
          "output_type": "stream",
          "text": [
            "Downloading data from https://storage.googleapis.com/tensorflow/keras-applications/vgg16/vgg16_weights_tf_dim_ordering_tf_kernels.h5\n",
            "553467904/553467096 [==============================] - 18s 0us/step\n"
          ],
          "name": "stdout"
        }
      ]
    },
    {
      "cell_type": "code",
      "metadata": {
        "id": "yNiyvU71qVJ9"
      },
      "source": [
        "#create a model that will return these outputs given the model input\n",
        "#we redefine model to output right after the first hidden layer\n",
        "model = Model(inputs=model.inputs,outputs=model.layers[1].output)"
      ],
      "execution_count": null,
      "outputs": []
    },
    {
      "cell_type": "code",
      "metadata": {
        "id": "sMwKHZVIq0Wk",
        "colab": {
          "base_uri": "https://localhost:8080/",
          "height": 218
        },
        "outputId": "f3599752-5961-40c7-de44-63c6fec023a9"
      },
      "source": [
        "#display the model summary\n",
        "model.summary()"
      ],
      "execution_count": null,
      "outputs": [
        {
          "output_type": "stream",
          "text": [
            "Model: \"functional_5\"\n",
            "_________________________________________________________________\n",
            "Layer (type)                 Output Shape              Param #   \n",
            "=================================================================\n",
            "input_3 (InputLayer)         [(None, 224, 224, 3)]     0         \n",
            "_________________________________________________________________\n",
            "block1_conv1 (Conv2D)        (None, 224, 224, 64)      1792      \n",
            "=================================================================\n",
            "Total params: 1,792\n",
            "Trainable params: 1,792\n",
            "Non-trainable params: 0\n",
            "_________________________________________________________________\n"
          ],
          "name": "stdout"
        }
      ]
    },
    {
      "cell_type": "code",
      "metadata": {
        "id": "XePKE4fOu1DW"
      },
      "source": [
        ""
      ],
      "execution_count": null,
      "outputs": []
    },
    {
      "cell_type": "code",
      "metadata": {
        "id": "nV7M_hPrq0Ih",
        "colab": {
          "base_uri": "https://localhost:8080/"
        },
        "outputId": "84088981-2e36-4f51-c62d-c55818b39b76"
      },
      "source": [
        "#load the image with requires shape\n",
        "img = load_img('sample_1.jpg',target_size=(224,224))\n",
        "\n",
        "#convert the image to an array\n",
        "img = img_to_array(img)\n",
        "\n",
        "#expand the dimensions so that it represents a single sample\n",
        "img = expand_dims(img,axis=0)\n",
        "\n",
        "#prepare the image(e.g scale the pixel valiues for the vgg)\n",
        "img = preprocess_input(img)\n",
        "\n",
        "#get the feature map for the 1st hidden layer\n",
        "feature_maps = model.predict(img)\n",
        "\n",
        "#we plot the 64 maps in an 8 * 8 squares\n",
        "\n",
        "square = 8\n",
        "ix = 1\n",
        "plt.figure(figsize=(12,12))\n",
        "\n",
        "for _ in range(square):\n",
        "  for _ in range (square):\n",
        "    #specify subplot and turn off axis\n",
        "    ax = plt.subplot(square,square,ix)\n",
        "    ax.set_xticks([])\n",
        "    ax.set_yticks([])\n",
        "\n",
        "    #plot the filter channel in grayscale\n",
        "    plt.imshow(feature_maps[0,:,:,ix-1], cmap='gray')\n",
        "    ix += 1\n",
        "#show the figure\n",
        "plt.show()"
      ],
      "execution_count": null,
      "outputs": [
        {
          "output_type": "error",
          "ename": "FileNotFoundError",
          "evalue": "ignored",
          "traceback": [
            "\u001b[0;31m---------------------------------------------------------------------------\u001b[0m",
            "\u001b[0;31mFileNotFoundError\u001b[0m                         Traceback (most recent call last)",
            "\u001b[0;32m<ipython-input-73-378cc59fb1ff>\u001b[0m in \u001b[0;36m<module>\u001b[0;34m()\u001b[0m\n\u001b[1;32m      1\u001b[0m \u001b[0;31m#load the image with requires shape\u001b[0m\u001b[0;34m\u001b[0m\u001b[0;34m\u001b[0m\u001b[0;34m\u001b[0m\u001b[0m\n\u001b[0;32m----> 2\u001b[0;31m \u001b[0mimg\u001b[0m \u001b[0;34m=\u001b[0m \u001b[0mload_img\u001b[0m\u001b[0;34m(\u001b[0m\u001b[0;34m'sample_1.jpg'\u001b[0m\u001b[0;34m,\u001b[0m\u001b[0mtarget_size\u001b[0m\u001b[0;34m=\u001b[0m\u001b[0;34m(\u001b[0m\u001b[0;36m224\u001b[0m\u001b[0;34m,\u001b[0m\u001b[0;36m224\u001b[0m\u001b[0;34m)\u001b[0m\u001b[0;34m)\u001b[0m\u001b[0;34m\u001b[0m\u001b[0;34m\u001b[0m\u001b[0m\n\u001b[0m\u001b[1;32m      3\u001b[0m \u001b[0;34m\u001b[0m\u001b[0m\n\u001b[1;32m      4\u001b[0m \u001b[0;31m#convert the image to an array\u001b[0m\u001b[0;34m\u001b[0m\u001b[0;34m\u001b[0m\u001b[0;34m\u001b[0m\u001b[0m\n\u001b[1;32m      5\u001b[0m \u001b[0mimg\u001b[0m \u001b[0;34m=\u001b[0m \u001b[0mimg_to_array\u001b[0m\u001b[0;34m(\u001b[0m\u001b[0mimg\u001b[0m\u001b[0;34m)\u001b[0m\u001b[0;34m\u001b[0m\u001b[0;34m\u001b[0m\u001b[0m\n",
            "\u001b[0;32m/usr/local/lib/python3.6/dist-packages/tensorflow/python/keras/preprocessing/image.py\u001b[0m in \u001b[0;36mload_img\u001b[0;34m(path, grayscale, color_mode, target_size, interpolation)\u001b[0m\n\u001b[1;32m    299\u001b[0m   \"\"\"\n\u001b[1;32m    300\u001b[0m   return image.load_img(path, grayscale=grayscale, color_mode=color_mode,\n\u001b[0;32m--> 301\u001b[0;31m                         target_size=target_size, interpolation=interpolation)\n\u001b[0m\u001b[1;32m    302\u001b[0m \u001b[0;34m\u001b[0m\u001b[0m\n\u001b[1;32m    303\u001b[0m \u001b[0;34m\u001b[0m\u001b[0m\n",
            "\u001b[0;32m/usr/local/lib/python3.6/dist-packages/keras_preprocessing/image/utils.py\u001b[0m in \u001b[0;36mload_img\u001b[0;34m(path, grayscale, color_mode, target_size, interpolation)\u001b[0m\n\u001b[1;32m    111\u001b[0m         raise ImportError('Could not import PIL.Image. '\n\u001b[1;32m    112\u001b[0m                           'The use of `load_img` requires PIL.')\n\u001b[0;32m--> 113\u001b[0;31m     \u001b[0;32mwith\u001b[0m \u001b[0mopen\u001b[0m\u001b[0;34m(\u001b[0m\u001b[0mpath\u001b[0m\u001b[0;34m,\u001b[0m \u001b[0;34m'rb'\u001b[0m\u001b[0;34m)\u001b[0m \u001b[0;32mas\u001b[0m \u001b[0mf\u001b[0m\u001b[0;34m:\u001b[0m\u001b[0;34m\u001b[0m\u001b[0;34m\u001b[0m\u001b[0m\n\u001b[0m\u001b[1;32m    114\u001b[0m         \u001b[0mimg\u001b[0m \u001b[0;34m=\u001b[0m \u001b[0mpil_image\u001b[0m\u001b[0;34m.\u001b[0m\u001b[0mopen\u001b[0m\u001b[0;34m(\u001b[0m\u001b[0mio\u001b[0m\u001b[0;34m.\u001b[0m\u001b[0mBytesIO\u001b[0m\u001b[0;34m(\u001b[0m\u001b[0mf\u001b[0m\u001b[0;34m.\u001b[0m\u001b[0mread\u001b[0m\u001b[0;34m(\u001b[0m\u001b[0;34m)\u001b[0m\u001b[0;34m)\u001b[0m\u001b[0;34m)\u001b[0m\u001b[0;34m\u001b[0m\u001b[0;34m\u001b[0m\u001b[0m\n\u001b[1;32m    115\u001b[0m         \u001b[0;32mif\u001b[0m \u001b[0mcolor_mode\u001b[0m \u001b[0;34m==\u001b[0m \u001b[0;34m'grayscale'\u001b[0m\u001b[0;34m:\u001b[0m\u001b[0;34m\u001b[0m\u001b[0;34m\u001b[0m\u001b[0m\n",
            "\u001b[0;31mFileNotFoundError\u001b[0m: [Errno 2] No such file or directory: 'sample_1.jpg'"
          ]
        }
      ]
    },
    {
      "cell_type": "markdown",
      "metadata": {
        "id": "B7k27ekmr7c3"
      },
      "source": [
        "#**PART 4**"
      ]
    },
    {
      "cell_type": "markdown",
      "metadata": {
        "id": "IufB7MWZOYu7"
      },
      "source": [
        "#Visualizing Filter maximizations, Grad-CAM(gradient-weighted class activation mapping)and class maximization."
      ]
    },
    {
      "cell_type": "markdown",
      "metadata": {
        "id": "GJCtUxATrG93"
      },
      "source": [
        "#Maximizing filter Activations\n"
      ]
    },
    {
      "cell_type": "markdown",
      "metadata": {
        "id": "1rF2beHzrMEU"
      },
      "source": [
        "You add a loss function that maximizes the value of a given filter in agiven conv layer,we then use sgd to adjust the values of the input image so as to max the activation value"
      ]
    },
    {
      "cell_type": "code",
      "metadata": {
        "id": "T8Yw14lhrbq2"
      },
      "source": [
        "import tensorflow as tf\n",
        "from tensorflow.keras import models,layers\n",
        "from tensorflow.keras.applications import VGG16"
      ],
      "execution_count": null,
      "outputs": []
    },
    {
      "cell_type": "code",
      "metadata": {
        "id": "uAuxYjg0ri95"
      },
      "source": [
        "from keras import backend as K"
      ],
      "execution_count": null,
      "outputs": []
    },
    {
      "cell_type": "code",
      "metadata": {
        "id": "73jvU008rm_H"
      },
      "source": [
        "model = VGG16(include_top=False,weights='imagenet') #building the VGG16 network"
      ],
      "execution_count": null,
      "outputs": []
    },
    {
      "cell_type": "code",
      "metadata": {
        "id": "Rx5p37g0EyXD"
      },
      "source": [
        "#create new model of intermediate layer\n",
        "layer_output = model.get_layer('block3_conv3').output\n",
        "activation = models.Model(model.input,layer_output)#new model"
      ],
      "execution_count": null,
      "outputs": []
    },
    {
      "cell_type": "code",
      "metadata": {
        "id": "uh2WYM7arzBv",
        "colab": {
          "base_uri": "https://localhost:8080/",
          "height": 790
        },
        "outputId": "e57358b4-f5aa-4b2b-f7de-c775238bcbbc"
      },
      "source": [
        "model.summary()"
      ],
      "execution_count": null,
      "outputs": [
        {
          "output_type": "stream",
          "text": [
            "Model: \"vgg16\"\n",
            "_________________________________________________________________\n",
            "Layer (type)                 Output Shape              Param #   \n",
            "=================================================================\n",
            "input_1 (InputLayer)         [(None, None, None, 3)]   0         \n",
            "_________________________________________________________________\n",
            "block1_conv1 (Conv2D)        (None, None, None, 64)    1792      \n",
            "_________________________________________________________________\n",
            "block1_conv2 (Conv2D)        (None, None, None, 64)    36928     \n",
            "_________________________________________________________________\n",
            "block1_pool (MaxPooling2D)   (None, None, None, 64)    0         \n",
            "_________________________________________________________________\n",
            "block2_conv1 (Conv2D)        (None, None, None, 128)   73856     \n",
            "_________________________________________________________________\n",
            "block2_conv2 (Conv2D)        (None, None, None, 128)   147584    \n",
            "_________________________________________________________________\n",
            "block2_pool (MaxPooling2D)   (None, None, None, 128)   0         \n",
            "_________________________________________________________________\n",
            "block3_conv1 (Conv2D)        (None, None, None, 256)   295168    \n",
            "_________________________________________________________________\n",
            "block3_conv2 (Conv2D)        (None, None, None, 256)   590080    \n",
            "_________________________________________________________________\n",
            "block3_conv3 (Conv2D)        (None, None, None, 256)   590080    \n",
            "_________________________________________________________________\n",
            "block3_pool (MaxPooling2D)   (None, None, None, 256)   0         \n",
            "_________________________________________________________________\n",
            "block4_conv1 (Conv2D)        (None, None, None, 512)   1180160   \n",
            "_________________________________________________________________\n",
            "block4_conv2 (Conv2D)        (None, None, None, 512)   2359808   \n",
            "_________________________________________________________________\n",
            "block4_conv3 (Conv2D)        (None, None, None, 512)   2359808   \n",
            "_________________________________________________________________\n",
            "block4_pool (MaxPooling2D)   (None, None, None, 512)   0         \n",
            "_________________________________________________________________\n",
            "block5_conv1 (Conv2D)        (None, None, None, 512)   2359808   \n",
            "_________________________________________________________________\n",
            "block5_conv2 (Conv2D)        (None, None, None, 512)   2359808   \n",
            "_________________________________________________________________\n",
            "block5_conv3 (Conv2D)        (None, None, None, 512)   2359808   \n",
            "_________________________________________________________________\n",
            "block5_pool (MaxPooling2D)   (None, None, None, 512)   0         \n",
            "=================================================================\n",
            "Total params: 14,714,688\n",
            "Trainable params: 14,714,688\n",
            "Non-trainable params: 0\n",
            "_________________________________________________________________\n"
          ],
          "name": "stdout"
        }
      ]
    },
    {
      "cell_type": "code",
      "metadata": {
        "id": "vhPybNqAAMzy"
      },
      "source": [
        "#initialize an image which will send to the model\n",
        "def init_img():\n",
        "  image = tf.random.uniform((1,150,150,3))\n",
        "  image = (image - 0.5) * 0.25\n",
        "  return image"
      ],
      "execution_count": null,
      "outputs": []
    },
    {
      "cell_type": "code",
      "metadata": {
        "id": "AgispYUUAo0D"
      },
      "source": [
        "#define the loss for filter visualization here we look at maximizing the loss\n",
        "def vis_loss(image,filter_index):\n",
        "  feature = activation(image)\n",
        "  loss = tf.math.reduce_mean(feature[:,2:-2,2:-2,filter_index])\n",
        "  return loss"
      ],
      "execution_count": null,
      "outputs": []
    },
    {
      "cell_type": "code",
      "metadata": {
        "id": "EFmvMbHHBTPQ"
      },
      "source": [
        "#define the gradient descent for image visualization\n",
        "def gradient(image,filter_index):\n",
        "  for i in range(30):\n",
        "    with tf.GradientTape() as tape:\n",
        "      loss = vis_loss(image,filter_index)\n",
        "    grads = tape.gradient(loss,image)\n",
        "    grads = tf.math.l2_normalize(grads)\n",
        "    image += 10 *grads\n",
        "    return loss,image"
      ],
      "execution_count": null,
      "outputs": []
    },
    {
      "cell_type": "code",
      "metadata": {
        "id": "iK1-MOqzDmmN"
      },
      "source": [
        "import numpy as np\n",
        "import matplotlib.pyplot as plt\n",
        "%matplotlib inline"
      ],
      "execution_count": null,
      "outputs": []
    },
    {
      "cell_type": "code",
      "metadata": {
        "id": "EwcRpBerB99v"
      },
      "source": [
        "def deprocess_image(img):\n",
        "  #normalize array: center on 0., ensure variance is 0.15\n",
        "  img = img.mean()\n",
        "  img /= img.std() +1e-5\n",
        "  img *= 0.15\n",
        "\n",
        "  #center crop\n",
        "  img = img[25:-25,25:-25,:]\n",
        "\n",
        "  #clip to [0,1]\n",
        "  img += 0.5\n",
        "  img = np.clip(img,0,255).astype('uint8')\n",
        "  return img"
      ],
      "execution_count": null,
      "outputs": []
    },
    {
      "cell_type": "code",
      "metadata": {
        "id": "-hSbp3r8Dy_5"
      },
      "source": [
        "def visualization_filter(filter_index):\n",
        "  img = init_img()\n",
        "  for i in range (30):\n",
        "    loss,image = gradient(image, filter_index)\n",
        "    img = deprocess_image(image[0].numpy())\n",
        "    plt.imshow(img)"
      ],
      "execution_count": null,
      "outputs": []
    },
    {
      "cell_type": "code",
      "metadata": {
        "id": "UiVZsYU6ELb1",
        "colab": {
          "base_uri": "https://localhost:8080/",
          "height": 279
        },
        "outputId": "09e1f264-1839-4a6c-f9fd-0c7119d52972"
      },
      "source": [
        "visualization_filter(0)"
      ],
      "execution_count": null,
      "outputs": [
        {
          "output_type": "error",
          "ename": "UnboundLocalError",
          "evalue": "ignored",
          "traceback": [
            "\u001b[0;31m---------------------------------------------------------------------------\u001b[0m",
            "\u001b[0;31mUnboundLocalError\u001b[0m                         Traceback (most recent call last)",
            "\u001b[0;32m<ipython-input-114-a99cad2f70ec>\u001b[0m in \u001b[0;36m<module>\u001b[0;34m()\u001b[0m\n\u001b[0;32m----> 1\u001b[0;31m \u001b[0mvisualization_filter\u001b[0m\u001b[0;34m(\u001b[0m\u001b[0;36m0\u001b[0m\u001b[0;34m)\u001b[0m\u001b[0;34m\u001b[0m\u001b[0;34m\u001b[0m\u001b[0m\n\u001b[0m",
            "\u001b[0;32m<ipython-input-113-5368262ef464>\u001b[0m in \u001b[0;36mvisualization_filter\u001b[0;34m(filter_index)\u001b[0m\n\u001b[1;32m      2\u001b[0m   \u001b[0mimg\u001b[0m \u001b[0;34m=\u001b[0m \u001b[0minit_img\u001b[0m\u001b[0;34m(\u001b[0m\u001b[0;34m)\u001b[0m\u001b[0;34m\u001b[0m\u001b[0;34m\u001b[0m\u001b[0m\n\u001b[1;32m      3\u001b[0m   \u001b[0;32mfor\u001b[0m \u001b[0mi\u001b[0m \u001b[0;32min\u001b[0m \u001b[0mrange\u001b[0m \u001b[0;34m(\u001b[0m\u001b[0;36m30\u001b[0m\u001b[0;34m)\u001b[0m\u001b[0;34m:\u001b[0m\u001b[0;34m\u001b[0m\u001b[0;34m\u001b[0m\u001b[0m\n\u001b[0;32m----> 4\u001b[0;31m     \u001b[0mloss\u001b[0m\u001b[0;34m,\u001b[0m\u001b[0mimage\u001b[0m \u001b[0;34m=\u001b[0m \u001b[0mgradient\u001b[0m\u001b[0;34m(\u001b[0m\u001b[0mimage\u001b[0m\u001b[0;34m,\u001b[0m \u001b[0mfilter_index\u001b[0m\u001b[0;34m)\u001b[0m\u001b[0;34m\u001b[0m\u001b[0;34m\u001b[0m\u001b[0m\n\u001b[0m\u001b[1;32m      5\u001b[0m     \u001b[0mimg\u001b[0m \u001b[0;34m=\u001b[0m \u001b[0mdeprocess_image\u001b[0m\u001b[0;34m(\u001b[0m\u001b[0mimage\u001b[0m\u001b[0;34m[\u001b[0m\u001b[0;36m0\u001b[0m\u001b[0;34m]\u001b[0m\u001b[0;34m.\u001b[0m\u001b[0mnumpy\u001b[0m\u001b[0;34m(\u001b[0m\u001b[0;34m)\u001b[0m\u001b[0;34m)\u001b[0m\u001b[0;34m\u001b[0m\u001b[0;34m\u001b[0m\u001b[0m\n\u001b[1;32m      6\u001b[0m     \u001b[0mplt\u001b[0m\u001b[0;34m.\u001b[0m\u001b[0mimshow\u001b[0m\u001b[0;34m(\u001b[0m\u001b[0mimg\u001b[0m\u001b[0;34m)\u001b[0m\u001b[0;34m\u001b[0m\u001b[0;34m\u001b[0m\u001b[0m\n",
            "\u001b[0;31mUnboundLocalError\u001b[0m: local variable 'image' referenced before assignment"
          ]
        }
      ]
    },
    {
      "cell_type": "code",
      "metadata": {
        "id": "bc83H20Zsas-"
      },
      "source": [
        "#explore 3rd conv block\n",
        "layer_name = 'block3_conv1'\n",
        "\n",
        "#use any integer from 0 to 511, since we have 512 filters in that layer\n",
        "filter_index = 0\n",
        "\n",
        "#build a loss function that max the activation of the nth filter of the layer considered\n",
        "#we use the get_layer function\n",
        "layer_output = model.get_layer(layer_name).output\n",
        "loss = K.mean(layer_output[:,:,:,filter_index])\n"
      ],
      "execution_count": null,
      "outputs": []
    },
    {
      "cell_type": "markdown",
      "metadata": {
        "id": "i_v3JXORtjx2"
      },
      "source": [
        "To implement gradient descent, you would need the gradient of this loss with respect to model's input. we need to use the gradient function packaged with the backend model of keras"
      ]
    },
    {
      "cell_type": "code",
      "metadata": {
        "id": "0BlainJ6t3eC"
      },
      "source": [
        "#we compute the gradient of the input picture w.r.t to the loss\n",
        "tf.compat.v1.disable_eager_execution() #costly approach\n",
        "grads = K.gradients(loss,model.input)[0]"
      ],
      "execution_count": null,
      "outputs": []
    },
    {
      "cell_type": "code",
      "metadata": {
        "id": "JQ4TsVjZwH2Y",
        "colab": {
          "base_uri": "https://localhost:8080/",
          "height": 404
        },
        "outputId": "171f3fe8-6dcc-4690-eb91-1b6e9eed8fb1"
      },
      "source": [
        "#to help the gradient descent process go smoothly we can normalize the gradient tensors by dividing\n",
        "#that value by its L2 norm. (the square of the root of the average of the square of the values in the tensor)-> ensures\n",
        "#that the magnitude of the updates done to the image is always within the same range\n",
        "\n",
        "#normalization trick : we normalize the gradient\n",
        "grads /= (K.sqrt(K.mean(K.square(grads))) + 1e-5)"
      ],
      "execution_count": null,
      "outputs": [
        {
          "output_type": "error",
          "ename": "ValueError",
          "evalue": "ignored",
          "traceback": [
            "\u001b[0;31m---------------------------------------------------------------------------\u001b[0m",
            "\u001b[0;31mValueError\u001b[0m                                Traceback (most recent call last)",
            "\u001b[0;32m<ipython-input-85-5b8d01c64eaa>\u001b[0m in \u001b[0;36m<module>\u001b[0;34m()\u001b[0m\n\u001b[1;32m      4\u001b[0m \u001b[0;34m\u001b[0m\u001b[0m\n\u001b[1;32m      5\u001b[0m \u001b[0;31m#normalization trick : we normalize the gradient\u001b[0m\u001b[0;34m\u001b[0m\u001b[0;34m\u001b[0m\u001b[0;34m\u001b[0m\u001b[0m\n\u001b[0;32m----> 6\u001b[0;31m \u001b[0mgrads\u001b[0m \u001b[0;34m/=\u001b[0m \u001b[0;34m(\u001b[0m\u001b[0mK\u001b[0m\u001b[0;34m.\u001b[0m\u001b[0msqrt\u001b[0m\u001b[0;34m(\u001b[0m\u001b[0mK\u001b[0m\u001b[0;34m.\u001b[0m\u001b[0mmean\u001b[0m\u001b[0;34m(\u001b[0m\u001b[0mK\u001b[0m\u001b[0;34m.\u001b[0m\u001b[0msquare\u001b[0m\u001b[0;34m(\u001b[0m\u001b[0mgrads\u001b[0m\u001b[0;34m)\u001b[0m\u001b[0;34m)\u001b[0m\u001b[0;34m)\u001b[0m \u001b[0;34m+\u001b[0m \u001b[0;36m1e-5\u001b[0m\u001b[0;34m)\u001b[0m\u001b[0;34m\u001b[0m\u001b[0;34m\u001b[0m\u001b[0m\n\u001b[0m",
            "\u001b[0;32m/usr/local/lib/python3.6/dist-packages/tensorflow/python/util/dispatch.py\u001b[0m in \u001b[0;36mwrapper\u001b[0;34m(*args, **kwargs)\u001b[0m\n\u001b[1;32m    199\u001b[0m     \u001b[0;34m\"\"\"Call target, and fall back on dispatchers if there is a TypeError.\"\"\"\u001b[0m\u001b[0;34m\u001b[0m\u001b[0;34m\u001b[0m\u001b[0m\n\u001b[1;32m    200\u001b[0m     \u001b[0;32mtry\u001b[0m\u001b[0;34m:\u001b[0m\u001b[0;34m\u001b[0m\u001b[0;34m\u001b[0m\u001b[0m\n\u001b[0;32m--> 201\u001b[0;31m       \u001b[0;32mreturn\u001b[0m \u001b[0mtarget\u001b[0m\u001b[0;34m(\u001b[0m\u001b[0;34m*\u001b[0m\u001b[0margs\u001b[0m\u001b[0;34m,\u001b[0m \u001b[0;34m**\u001b[0m\u001b[0mkwargs\u001b[0m\u001b[0;34m)\u001b[0m\u001b[0;34m\u001b[0m\u001b[0;34m\u001b[0m\u001b[0m\n\u001b[0m\u001b[1;32m    202\u001b[0m     \u001b[0;32mexcept\u001b[0m \u001b[0;34m(\u001b[0m\u001b[0mTypeError\u001b[0m\u001b[0;34m,\u001b[0m \u001b[0mValueError\u001b[0m\u001b[0;34m)\u001b[0m\u001b[0;34m:\u001b[0m\u001b[0;34m\u001b[0m\u001b[0;34m\u001b[0m\u001b[0m\n\u001b[1;32m    203\u001b[0m       \u001b[0;31m# Note: convert_to_eager_tensor currently raises a ValueError, not a\u001b[0m\u001b[0;34m\u001b[0m\u001b[0;34m\u001b[0m\u001b[0;34m\u001b[0m\u001b[0m\n",
            "\u001b[0;32m/usr/local/lib/python3.6/dist-packages/tensorflow/python/keras/backend.py\u001b[0m in \u001b[0;36mmean\u001b[0;34m(x, axis, keepdims)\u001b[0m\n\u001b[1;32m   2261\u001b[0m   \u001b[0;32mif\u001b[0m \u001b[0mx\u001b[0m\u001b[0;34m.\u001b[0m\u001b[0mdtype\u001b[0m\u001b[0;34m.\u001b[0m\u001b[0mbase_dtype\u001b[0m \u001b[0;34m==\u001b[0m \u001b[0mdtypes_module\u001b[0m\u001b[0;34m.\u001b[0m\u001b[0mbool\u001b[0m\u001b[0;34m:\u001b[0m\u001b[0;34m\u001b[0m\u001b[0;34m\u001b[0m\u001b[0m\n\u001b[1;32m   2262\u001b[0m     \u001b[0mx\u001b[0m \u001b[0;34m=\u001b[0m \u001b[0mmath_ops\u001b[0m\u001b[0;34m.\u001b[0m\u001b[0mcast\u001b[0m\u001b[0;34m(\u001b[0m\u001b[0mx\u001b[0m\u001b[0;34m,\u001b[0m \u001b[0mfloatx\u001b[0m\u001b[0;34m(\u001b[0m\u001b[0;34m)\u001b[0m\u001b[0;34m)\u001b[0m\u001b[0;34m\u001b[0m\u001b[0;34m\u001b[0m\u001b[0m\n\u001b[0;32m-> 2263\u001b[0;31m   \u001b[0;32mreturn\u001b[0m \u001b[0mmath_ops\u001b[0m\u001b[0;34m.\u001b[0m\u001b[0mreduce_mean\u001b[0m\u001b[0;34m(\u001b[0m\u001b[0mx\u001b[0m\u001b[0;34m,\u001b[0m \u001b[0maxis\u001b[0m\u001b[0;34m,\u001b[0m \u001b[0mkeepdims\u001b[0m\u001b[0;34m)\u001b[0m\u001b[0;34m\u001b[0m\u001b[0;34m\u001b[0m\u001b[0m\n\u001b[0m\u001b[1;32m   2264\u001b[0m \u001b[0;34m\u001b[0m\u001b[0m\n\u001b[1;32m   2265\u001b[0m \u001b[0;34m\u001b[0m\u001b[0m\n",
            "\u001b[0;32m/usr/local/lib/python3.6/dist-packages/tensorflow/python/util/dispatch.py\u001b[0m in \u001b[0;36mwrapper\u001b[0;34m(*args, **kwargs)\u001b[0m\n\u001b[1;32m    199\u001b[0m     \u001b[0;34m\"\"\"Call target, and fall back on dispatchers if there is a TypeError.\"\"\"\u001b[0m\u001b[0;34m\u001b[0m\u001b[0;34m\u001b[0m\u001b[0m\n\u001b[1;32m    200\u001b[0m     \u001b[0;32mtry\u001b[0m\u001b[0;34m:\u001b[0m\u001b[0;34m\u001b[0m\u001b[0;34m\u001b[0m\u001b[0m\n\u001b[0;32m--> 201\u001b[0;31m       \u001b[0;32mreturn\u001b[0m \u001b[0mtarget\u001b[0m\u001b[0;34m(\u001b[0m\u001b[0;34m*\u001b[0m\u001b[0margs\u001b[0m\u001b[0;34m,\u001b[0m \u001b[0;34m**\u001b[0m\u001b[0mkwargs\u001b[0m\u001b[0;34m)\u001b[0m\u001b[0;34m\u001b[0m\u001b[0;34m\u001b[0m\u001b[0m\n\u001b[0m\u001b[1;32m    202\u001b[0m     \u001b[0;32mexcept\u001b[0m \u001b[0;34m(\u001b[0m\u001b[0mTypeError\u001b[0m\u001b[0;34m,\u001b[0m \u001b[0mValueError\u001b[0m\u001b[0;34m)\u001b[0m\u001b[0;34m:\u001b[0m\u001b[0;34m\u001b[0m\u001b[0;34m\u001b[0m\u001b[0m\n\u001b[1;32m    203\u001b[0m       \u001b[0;31m# Note: convert_to_eager_tensor currently raises a ValueError, not a\u001b[0m\u001b[0;34m\u001b[0m\u001b[0;34m\u001b[0m\u001b[0;34m\u001b[0m\u001b[0m\n",
            "\u001b[0;32m/usr/local/lib/python3.6/dist-packages/tensorflow/python/ops/math_ops.py\u001b[0m in \u001b[0;36mreduce_mean\u001b[0;34m(input_tensor, axis, keepdims, name)\u001b[0m\n\u001b[1;32m   2310\u001b[0m       gen_math_ops.mean(\n\u001b[1;32m   2311\u001b[0m           \u001b[0minput_tensor\u001b[0m\u001b[0;34m,\u001b[0m \u001b[0m_ReductionDims\u001b[0m\u001b[0;34m(\u001b[0m\u001b[0minput_tensor\u001b[0m\u001b[0;34m,\u001b[0m \u001b[0maxis\u001b[0m\u001b[0;34m)\u001b[0m\u001b[0;34m,\u001b[0m \u001b[0mkeepdims\u001b[0m\u001b[0;34m,\u001b[0m\u001b[0;34m\u001b[0m\u001b[0;34m\u001b[0m\u001b[0m\n\u001b[0;32m-> 2312\u001b[0;31m           name=name))\n\u001b[0m\u001b[1;32m   2313\u001b[0m \u001b[0;34m\u001b[0m\u001b[0m\n\u001b[1;32m   2314\u001b[0m \u001b[0;34m\u001b[0m\u001b[0m\n",
            "\u001b[0;32m/usr/local/lib/python3.6/dist-packages/tensorflow/python/ops/gen_math_ops.py\u001b[0m in \u001b[0;36mmean\u001b[0;34m(input, axis, keep_dims, name)\u001b[0m\n\u001b[1;32m   5874\u001b[0m   _, _, _op, _outputs = _op_def_library._apply_op_helper(\n\u001b[1;32m   5875\u001b[0m         \u001b[0;34m\"Mean\"\u001b[0m\u001b[0;34m,\u001b[0m \u001b[0minput\u001b[0m\u001b[0;34m=\u001b[0m\u001b[0minput\u001b[0m\u001b[0;34m,\u001b[0m \u001b[0mreduction_indices\u001b[0m\u001b[0;34m=\u001b[0m\u001b[0maxis\u001b[0m\u001b[0;34m,\u001b[0m \u001b[0mkeep_dims\u001b[0m\u001b[0;34m=\u001b[0m\u001b[0mkeep_dims\u001b[0m\u001b[0;34m,\u001b[0m\u001b[0;34m\u001b[0m\u001b[0;34m\u001b[0m\u001b[0m\n\u001b[0;32m-> 5876\u001b[0;31m                 name=name)\n\u001b[0m\u001b[1;32m   5877\u001b[0m   \u001b[0m_result\u001b[0m \u001b[0;34m=\u001b[0m \u001b[0m_outputs\u001b[0m\u001b[0;34m[\u001b[0m\u001b[0;34m:\u001b[0m\u001b[0;34m]\u001b[0m\u001b[0;34m\u001b[0m\u001b[0;34m\u001b[0m\u001b[0m\n\u001b[1;32m   5878\u001b[0m   \u001b[0;32mif\u001b[0m \u001b[0m_execute\u001b[0m\u001b[0;34m.\u001b[0m\u001b[0mmust_record_gradient\u001b[0m\u001b[0;34m(\u001b[0m\u001b[0;34m)\u001b[0m\u001b[0;34m:\u001b[0m\u001b[0;34m\u001b[0m\u001b[0;34m\u001b[0m\u001b[0m\n",
            "\u001b[0;32m/usr/local/lib/python3.6/dist-packages/tensorflow/python/framework/op_def_library.py\u001b[0m in \u001b[0;36m_apply_op_helper\u001b[0;34m(op_type_name, name, **keywords)\u001b[0m\n\u001b[1;32m    307\u001b[0m     \u001b[0;31m# Need to flatten all the arguments into a list.\u001b[0m\u001b[0;34m\u001b[0m\u001b[0;34m\u001b[0m\u001b[0;34m\u001b[0m\u001b[0m\n\u001b[1;32m    308\u001b[0m     \u001b[0;31m# pylint: disable=protected-access\u001b[0m\u001b[0;34m\u001b[0m\u001b[0;34m\u001b[0m\u001b[0;34m\u001b[0m\u001b[0m\n\u001b[0;32m--> 309\u001b[0;31m     \u001b[0mg\u001b[0m \u001b[0;34m=\u001b[0m \u001b[0mops\u001b[0m\u001b[0;34m.\u001b[0m\u001b[0m_get_graph_from_inputs\u001b[0m\u001b[0;34m(\u001b[0m\u001b[0m_Flatten\u001b[0m\u001b[0;34m(\u001b[0m\u001b[0mkeywords\u001b[0m\u001b[0;34m.\u001b[0m\u001b[0mvalues\u001b[0m\u001b[0;34m(\u001b[0m\u001b[0;34m)\u001b[0m\u001b[0;34m)\u001b[0m\u001b[0;34m)\u001b[0m\u001b[0;34m\u001b[0m\u001b[0;34m\u001b[0m\u001b[0m\n\u001b[0m\u001b[1;32m    310\u001b[0m     \u001b[0;31m# pylint: enable=protected-access\u001b[0m\u001b[0;34m\u001b[0m\u001b[0;34m\u001b[0m\u001b[0;34m\u001b[0m\u001b[0m\n\u001b[1;32m    311\u001b[0m   \u001b[0;32mexcept\u001b[0m \u001b[0mAssertionError\u001b[0m \u001b[0;32mas\u001b[0m \u001b[0me\u001b[0m\u001b[0;34m:\u001b[0m\u001b[0;34m\u001b[0m\u001b[0;34m\u001b[0m\u001b[0m\n",
            "\u001b[0;32m/usr/local/lib/python3.6/dist-packages/tensorflow/python/framework/ops.py\u001b[0m in \u001b[0;36m_get_graph_from_inputs\u001b[0;34m(op_input_list, graph)\u001b[0m\n\u001b[1;32m   6111\u001b[0m         \u001b[0mgraph\u001b[0m \u001b[0;34m=\u001b[0m \u001b[0mgetattr\u001b[0m\u001b[0;34m(\u001b[0m\u001b[0mgraph_element\u001b[0m\u001b[0;34m,\u001b[0m \u001b[0;34m\"graph\"\u001b[0m\u001b[0;34m,\u001b[0m \u001b[0;32mNone\u001b[0m\u001b[0;34m)\u001b[0m\u001b[0;34m\u001b[0m\u001b[0;34m\u001b[0m\u001b[0m\n\u001b[1;32m   6112\u001b[0m       \u001b[0;32melif\u001b[0m \u001b[0moriginal_graph_element\u001b[0m \u001b[0;32mis\u001b[0m \u001b[0;32mnot\u001b[0m \u001b[0;32mNone\u001b[0m\u001b[0;34m:\u001b[0m\u001b[0;34m\u001b[0m\u001b[0;34m\u001b[0m\u001b[0m\n\u001b[0;32m-> 6113\u001b[0;31m         \u001b[0m_assert_same_graph\u001b[0m\u001b[0;34m(\u001b[0m\u001b[0moriginal_graph_element\u001b[0m\u001b[0;34m,\u001b[0m \u001b[0mgraph_element\u001b[0m\u001b[0;34m)\u001b[0m\u001b[0;34m\u001b[0m\u001b[0;34m\u001b[0m\u001b[0m\n\u001b[0m\u001b[1;32m   6114\u001b[0m       \u001b[0;32melif\u001b[0m \u001b[0mgraph_element\u001b[0m\u001b[0;34m.\u001b[0m\u001b[0mgraph\u001b[0m \u001b[0;32mis\u001b[0m \u001b[0;32mnot\u001b[0m \u001b[0mgraph\u001b[0m\u001b[0;34m:\u001b[0m\u001b[0;34m\u001b[0m\u001b[0;34m\u001b[0m\u001b[0m\n\u001b[1;32m   6115\u001b[0m         \u001b[0;32mraise\u001b[0m \u001b[0mValueError\u001b[0m\u001b[0;34m(\u001b[0m\u001b[0;34m\"%s is not from the passed-in graph.\"\u001b[0m \u001b[0;34m%\u001b[0m \u001b[0mgraph_element\u001b[0m\u001b[0;34m)\u001b[0m\u001b[0;34m\u001b[0m\u001b[0;34m\u001b[0m\u001b[0m\n",
            "\u001b[0;32m/usr/local/lib/python3.6/dist-packages/tensorflow/python/framework/ops.py\u001b[0m in \u001b[0;36m_assert_same_graph\u001b[0;34m(original_item, item)\u001b[0m\n\u001b[1;32m   6046\u001b[0m     raise ValueError(\n\u001b[1;32m   6047\u001b[0m         \u001b[0;34m\"%s must be from the same graph as %s (graphs are %s and %s).\"\u001b[0m \u001b[0;34m%\u001b[0m\u001b[0;34m\u001b[0m\u001b[0;34m\u001b[0m\u001b[0m\n\u001b[0;32m-> 6048\u001b[0;31m         (item, original_item, graph, original_graph))\n\u001b[0m\u001b[1;32m   6049\u001b[0m \u001b[0;34m\u001b[0m\u001b[0m\n\u001b[1;32m   6050\u001b[0m \u001b[0;34m\u001b[0m\u001b[0m\n",
            "\u001b[0;31mValueError\u001b[0m: Tensor(\"Const_2:0\", shape=(4,), dtype=int32) must be from the same graph as Tensor(\"Square_1:0\", shape=(None, None, None, 3), dtype=float32) (graphs are <tensorflow.python.framework.ops.Graph object at 0x7fe89f090588> and FuncGraph(name=keras_graph, id=140637075465776))."
          ]
        }
      ]
    },
    {
      "cell_type": "markdown",
      "metadata": {
        "id": "7hJtso63ZC1O"
      },
      "source": [
        "Using tensorflow version 1.x\n",
        "\n"
      ]
    },
    {
      "cell_type": "code",
      "metadata": {
        "id": "Pz-8kalVZJL_",
        "colab": {
          "base_uri": "https://localhost:8080/"
        },
        "outputId": "1a93a919-d1d8-48d5-d183-7586df2d968a"
      },
      "source": [
        "%tensorflow_version 1.x"
      ],
      "execution_count": null,
      "outputs": [
        {
          "output_type": "stream",
          "text": [
            "TensorFlow 1.x selected.\n"
          ],
          "name": "stdout"
        }
      ]
    },
    {
      "cell_type": "code",
      "metadata": {
        "id": "fuLWiGg2jfHN"
      },
      "source": [
        "#reimported since tensorflow 1.0 failed\n",
        "import tensorflow as tf\n",
        "from tensorflow.keras import models,layers\n",
        "from tensorflow.keras.applications import VGG16\n",
        "from keras import backend as K\n"
      ],
      "execution_count": null,
      "outputs": []
    },
    {
      "cell_type": "code",
      "metadata": {
        "id": "yDavykwblcbv"
      },
      "source": [
        "model = VGG16(include_top=False,weights='imagenet') #building the VGG16 network\n",
        "#explore 3rd conv block\n",
        "layer_name = 'block3_conv1'\n",
        "\n",
        "#use any integer from 0 to 511, since we have 512 filters in that layer\n",
        "filter_index = 0\n",
        "\n",
        "#build a loss function that max the activation of the nth filter of the layer considered\n",
        "#we use the get_layer function\n",
        "layer_output = model.get_layer(layer_name).output\n",
        "\n",
        "loss = K.mean(layer_output[:,:,:,filter_index])\n",
        "grads = K.gradients(loss,model.input)[0]\n",
        "grads /= (K.sqrt(K.mean(K.square(grads))) + 1e-5)"
      ],
      "execution_count": null,
      "outputs": []
    },
    {
      "cell_type": "code",
      "metadata": {
        "id": "qOHPb1yZa-Ij",
        "colab": {
          "base_uri": "https://localhost:8080/"
        },
        "outputId": "c5d446e5-1374-4223-b141-af12264278da"
      },
      "source": [
        "iterate = K.function ([model.input],[loss,grads])"
      ],
      "execution_count": null,
      "outputs": [
        {
          "output_type": "stream",
          "text": [
            "WARNING:tensorflow:From /tensorflow-1.15.2/python3.6/keras/backend/tensorflow_backend.py:422: The name tf.global_variables is deprecated. Please use tf.compat.v1.global_variables instead.\n",
            "\n"
          ],
          "name": "stdout"
        }
      ]
    },
    {
      "cell_type": "code",
      "metadata": {
        "id": "ehrcFs8zbb8G"
      },
      "source": [
        "#now we can define a python loop to do stochastic gradient\n",
        "import numpy as np\n",
        "\n",
        "img_width,img_height =150,150\n",
        "#we start from a gray image with some noise\n",
        "input_img_data=np.random.random((1,img_width,img_height,3))\n"
      ],
      "execution_count": null,
      "outputs": []
    },
    {
      "cell_type": "code",
      "metadata": {
        "id": "FWs-Lyygb5cx"
      },
      "source": [
        "step = 1.0\n",
        "#run the gradient ascent for 50 steps\n",
        "\n",
        "for i in range (50):\n",
        "  loss_values,grads_value = iterate([input_img_data])\n",
        "  input_img_data += grads_value * step"
      ],
      "execution_count": null,
      "outputs": []
    },
    {
      "cell_type": "markdown",
      "metadata": {
        "id": "Yev8TMfaPZT8"
      },
      "source": [
        "#Deprocess Function\n"
      ]
    },
    {
      "cell_type": "markdown",
      "metadata": {
        "id": "BkLYbKa1cV4g"
      },
      "source": [
        "The resulting image tensor is a floating point tensor of shape (1,150,150,3) with values that may not be integers with the range [0,255] hence we need to postproces the tensor to turn it into a displayable image"
      ]
    },
    {
      "cell_type": "code",
      "metadata": {
        "id": "ooTZWQIicqUH"
      },
      "source": [
        "# util function to convert a tensor into a valid image\n",
        "\n",
        "def deprocess_image(x):\n",
        "  #normalize tensor: center on 0,0 to ensure that std 0.1\n",
        "  x -= x.mean()\n",
        "  x /= (x.std()- 1e-5)\n",
        "  x *= 0.1\n",
        "  #clip to [x,0,1]\n",
        "  x += 0.5\n",
        "  x = np.clip(x,0,1)\n",
        "  #to convert to rgb\n",
        "  x *= 255\n",
        "  x = np.clip(x,0,255).astype('uint8')\n",
        "  return x"
      ],
      "execution_count": null,
      "outputs": []
    },
    {
      "cell_type": "markdown",
      "metadata": {
        "id": "Tzxh6PaBdm_B"
      },
      "source": [
        "with this we can plot image tensor representing the pattern that maximizes the activation of the specified filter"
      ]
    },
    {
      "cell_type": "code",
      "metadata": {
        "id": "BwG7MWS0dyem",
        "colab": {
          "base_uri": "https://localhost:8080/",
          "height": 286
        },
        "outputId": "59ba73ad-a7b8-491b-9c50-b2cc253498a2"
      },
      "source": [
        "import matplotlib.pyplot as plt\n",
        "\n",
        "img = input_img_data[0]\n",
        "plt.imshow(deprocess_image(img))"
      ],
      "execution_count": null,
      "outputs": [
        {
          "output_type": "execute_result",
          "data": {
            "text/plain": [
              "<matplotlib.image.AxesImage at 0x7f7d9352a630>"
            ]
          },
          "metadata": {
            "tags": []
          },
          "execution_count": 13
        },
        {
          "output_type": "display_data",
          "data": {
            "image/png": "[encoded data removed]",
            "text/plain": [
              "<Figure size 432x288 with 1 Axes>"
            ]
          },
          "metadata": {
            "tags": [],
            "needs_background": "light"
          }
        }
      ]
    },
    {
      "cell_type": "markdown",
      "metadata": {
        "id": "F-iZ6SZ9Pc2U"
      },
      "source": [
        "#We can create a simple function for this entire process"
      ]
    },
    {
      "cell_type": "code",
      "metadata": {
        "id": "lSaYUgJvPifH"
      },
      "source": [
        "def generate_pattern(layer_name,filter_index, size=150):\n",
        "  layer_output = model.get_layer(layer_name).output\n",
        "  loss = K.mean(layer_output[:,:,:,filter_index])\n",
        "  grads = K.gradients(loss,model.input)[0]\n",
        "  grads /= (K.sqrt(K.mean(K.square(grads))) +1e-5)\n",
        "  iterate = K.function([model.input],[loss,grads])\n",
        "  input_img_data = np.random.random((1,size,size,3))\n",
        "  step= 1.0\n",
        "  for i in range (40):\n",
        "    loss_value,grads_value = iterate([input_img_data])\n",
        "    input_img_data += grads_value * step\n",
        "  img = input_img_data[0]\n",
        "  return deprocess_image(img)"
      ],
      "execution_count": null,
      "outputs": []
    },
    {
      "cell_type": "code",
      "metadata": {
        "id": "1NZit9QEQ6JM",
        "colab": {
          "base_uri": "https://localhost:8080/",
          "height": 286
        },
        "outputId": "1f4261e4-9d02-4d0e-e9b1-1e797a65e16a"
      },
      "source": [
        "plt.imshow(generate_pattern('block3_conv3',22))\n"
      ],
      "execution_count": null,
      "outputs": [
        {
          "output_type": "execute_result",
          "data": {
            "text/plain": [
              "<matplotlib.image.AxesImage at 0x7f7c69fff5c0>"
            ]
          },
          "metadata": {
            "tags": []
          },
          "execution_count": 15
        },
        {
          "output_type": "display_data",
          "data": {
            "image/png": "[encoded data removed]",
            "text/plain": [
              "<Figure size 432x288 with 1 Axes>"
            ]
          },
          "metadata": {
            "tags": [],
            "needs_background": "light"
          }
        }
      ]
    },
    {
      "cell_type": "markdown",
      "metadata": {
        "id": "hOdxLtNDRbtm"
      },
      "source": [
        "#Implementing Grad-CAM"
      ]
    },
    {
      "cell_type": "code",
      "metadata": {
        "id": "4bVZxiQJRf6f"
      },
      "source": [
        "import numpy as np\n",
        "import tensorflow as tf\n",
        "from tensorflow import keras"
      ],
      "execution_count": null,
      "outputs": []
    },
    {
      "cell_type": "code",
      "metadata": {
        "id": "17T0JCmnR2QW"
      },
      "source": [
        "from IPython.display import Image\n",
        "import matplotlib.pyplot as plt\n",
        "import matplotlib.cm as cm"
      ],
      "execution_count": null,
      "outputs": []
    },
    {
      "cell_type": "markdown",
      "metadata": {
        "id": "OjCryVCJSQpK"
      },
      "source": [
        "#Let's use the Xception model to demonstrate the Grad-CAM"
      ]
    },
    {
      "cell_type": "code",
      "metadata": {
        "id": "fb4Izl2FSX0U"
      },
      "source": [
        "#load the xception model\n",
        "model_builder = keras.applications.xception.Xception\n",
        "\n",
        "#define the input size\n",
        "img_size = (299,299)\n",
        "\n",
        "#extract the pre_process input and decode predict functions\n",
        "preprocess_input = keras.applications.xception.preprocess_input\n",
        "decode_predictions = keras.applications.xception.decode_predictions\n",
        "\n",
        "#store the names of the last conv layer\n",
        "last_conv_layer_name = 'block14_sepconv2_act'\n",
        "classifier_layer_names = ['avg_pool','predictions',]\n"
      ],
      "execution_count": null,
      "outputs": []
    },
    {
      "cell_type": "markdown",
      "metadata": {
        "id": "IRhQ_9CDTvoN"
      },
      "source": [
        "#Point to our image"
      ]
    },
    {
      "cell_type": "code",
      "metadata": {
        "id": "63m3DalXTzDI",
        "colab": {
          "base_uri": "https://localhost:8080/"
        },
        "outputId": "e949cf26-2b95-4c51-f2e0-417ea587c9bb"
      },
      "source": [
        "#the local path of our target image\n",
        "img_path = keras.utils.get_file('african _elephant.jpg','https://i.imgur.com/Bvro0YD.png')\n"
      ],
      "execution_count": null,
      "outputs": [
        {
          "output_type": "stream",
          "text": [
            "Downloading data from https://i.imgur.com/Bvro0YD.png\n",
            "4218880/4217496 [==============================] - 0s 0us/step\n"
          ],
          "name": "stdout"
        }
      ]
    },
    {
      "cell_type": "code",
      "metadata": {
        "id": "Nwtlh4m6Un7A",
        "colab": {
          "base_uri": "https://localhost:8080/",
          "height": 35
        },
        "outputId": "ab8ef240-3632-45ce-c1a0-d64e4428fa95"
      },
      "source": [
        "display(img_path)"
      ],
      "execution_count": null,
      "outputs": [
        {
          "output_type": "display_data",
          "data": {
            "application/vnd.google.colaboratory.intrinsic+json": {
              "type": "string"
            },
            "text/plain": [
              "'/root/.keras/datasets/african _elephant.jpg'"
            ]
          },
          "metadata": {
            "tags": []
          }
        }
      ]
    },
    {
      "cell_type": "markdown",
      "metadata": {
        "id": "HfvBKw-kU-4d"
      },
      "source": [
        "#Helper function that loads our image in the right format\n"
      ]
    },
    {
      "cell_type": "code",
      "metadata": {
        "id": "UW7NahiQVFao"
      },
      "source": [
        "def get_img_array(img_path,size):\n",
        "  #img is a PIL image of size 299*299\n",
        "  img = keras.preprocessing.image.load_img(img_path,target_size=size)\n",
        "  array = keras.preprocessing.image.img_to_array(img)\n",
        "  array = np.expand_dims(array,axis=0)\n",
        "  return array"
      ],
      "execution_count": null,
      "outputs": []
    },
    {
      "cell_type": "markdown",
      "metadata": {
        "id": "2-yY18a_WB-s"
      },
      "source": [
        "#The Grad-CAM Heatmap function"
      ]
    },
    {
      "cell_type": "code",
      "metadata": {
        "id": "fp4CiIG3WG6n"
      },
      "source": [
        "def make_gradcam_heatmap(img_array,model,last_conv_layer_name,classifier_layer_names):\n",
        "  #first we create a model that maps the input image to the activations of the last conv layer\n",
        "  last_conv_layer = model.get_layer(last_conv_layer_name)\n",
        "  last_conv_layer_model = keras.Model(model.inputs,last_conv_layer.output)\n",
        "  #second we create a model that maps the activations of the last conv layer\n",
        "  #to the final class predictions\n",
        "  "
      ],
      "execution_count": null,
      "outputs": []
    },
    {
      "cell_type": "code",
      "metadata": {
        "id": "h6_lvzdSmsc3"
      },
      "source": [
        ""
      ],
      "execution_count": null,
      "outputs": []
    }
  ]
}